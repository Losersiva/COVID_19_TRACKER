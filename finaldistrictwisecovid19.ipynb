{
  "nbformat": 4,
  "nbformat_minor": 0,
  "metadata": {
    "colab": {
      "name": "finaldistrictwisecovid19.ipynb",
      "provenance": [],
      "private_outputs": true,
      "collapsed_sections": [],
      "authorship_tag": "ABX9TyPMVW/eAK1u9/X2+KpnT2V7",
      "include_colab_link": true
    },
    "kernelspec": {
      "name": "python3",
      "display_name": "Python 3"
    },
    "accelerator": "GPU"
  },
  "cells": [
    {
      "cell_type": "markdown",
      "metadata": {
        "id": "view-in-github",
        "colab_type": "text"
      },
      "source": [
        "<a href=\"https://colab.research.google.com/github/engineerscodes/COVID_19_TRACKER/blob/master/finaldistrictwisecovid19.ipynb\" target=\"_parent\"><img src=\"https://colab.research.google.com/assets/colab-badge.svg\" alt=\"Open In Colab\"/></a>"
      ]
    },
    {
      "cell_type": "code",
      "metadata": {
        "id": "Q1Y9AI4Hd5NS",
        "colab_type": "code",
        "colab": {}
      },
      "source": [
        "%%writefile my_app1.py\n",
        "#!pip install tabpy-server\n",
        "#!pip install Tornado==5.1.1"
      ],
      "execution_count": null,
      "outputs": []
    },
    {
      "cell_type": "code",
      "metadata": {
        "id": "TPD4_UIHDxNL",
        "colab_type": "code",
        "colab": {}
      },
      "source": [
        "from time import *;\n",
        "sleep(10)"
      ],
      "execution_count": null,
      "outputs": []
    },
    {
      "cell_type": "code",
      "metadata": {
        "id": "TKw4P-u6hbDf",
        "colab_type": "code",
        "colab": {}
      },
      "source": [
        "#%cd /usr/local/lib/python3.6/dist-packages"
      ],
      "execution_count": null,
      "outputs": []
    },
    {
      "cell_type": "code",
      "metadata": {
        "id": "nHeZqCSqhioK",
        "colab_type": "code",
        "colab": {}
      },
      "source": [
        "#%cd tabpy_server"
      ],
      "execution_count": null,
      "outputs": []
    },
    {
      "cell_type": "code",
      "metadata": {
        "id": "yM-r_U1PiOio",
        "colab_type": "code",
        "colab": {}
      },
      "source": [
        "#!python startup.py"
      ],
      "execution_count": null,
      "outputs": []
    },
    {
      "cell_type": "code",
      "metadata": {
        "id": "dKYNXWYx0Wdd",
        "colab_type": "code",
        "colab": {}
      },
      "source": [
        "import requests as rq\n",
        "\n",
        "r=rq.get(\"https://api.covid19india.org/state_district_wise.json\")\n",
        "sleep(30)"
      ],
      "execution_count": null,
      "outputs": []
    },
    {
      "cell_type": "markdown",
      "metadata": {
        "id": "bnfgXtDtd4Ae",
        "colab_type": "text"
      },
      "source": [
        ""
      ]
    },
    {
      "cell_type": "code",
      "metadata": {
        "id": "Mr17_Tn804HO",
        "colab_type": "code",
        "colab": {}
      },
      "source": [
        "print(r.status_code)"
      ],
      "execution_count": null,
      "outputs": []
    },
    {
      "cell_type": "code",
      "metadata": {
        "id": "ASBmNaV_1h87",
        "colab_type": "code",
        "colab": {}
      },
      "source": [
        "from pandas import DataFrame as df"
      ],
      "execution_count": null,
      "outputs": []
    },
    {
      "cell_type": "code",
      "metadata": {
        "id": "Cq7y9tQt08ms",
        "colab_type": "code",
        "colab": {}
      },
      "source": [
        "an=df(r.json()[\"Andaman and Nicobar Islands\"][\"districtData\"])\n"
      ],
      "execution_count": null,
      "outputs": []
    },
    {
      "cell_type": "code",
      "metadata": {
        "id": "XoOXEbEP16Av",
        "colab_type": "code",
        "colab": {}
      },
      "source": [
        "ap=df(r.json()[\"Andhra Pradesh\"][\"districtData\"])\n",
        "print(ap)"
      ],
      "execution_count": null,
      "outputs": []
    },
    {
      "cell_type": "code",
      "metadata": {
        "id": "rQ5nJ6cr21dD",
        "colab_type": "code",
        "colab": {}
      },
      "source": [
        "liststate=[\"Assam\",\"Bihar\",\"Chandigarh\",\"Chhattisgarh\",\"Delhi\",\"Dadra and Nagar Haveli and Daman and Diu\",\"Goa\",\"Gujarat\",\"Himachal Pradesh\",\"Haryana\",\"Jharkhand\",\"Jammu and Kashmir\",\"Karnataka\",\"Kerala\",\"Ladakh\",\"Lakshadweep\",\"Maharashtra\",\"Meghalaya\",\"Manipur\",\"Madhya Pradesh\",\"Mizoram\",\"Nagaland\",\"Odisha\",\"Punjab\",\"Puducherry\",\"Rajasthan\",\"Sikkim\",\"Telangana\",\"Tamil Nadu\",\"Tripura\",\"Uttar Pradesh\",\"Uttarakhand\",\"West Bengal\",\"Andaman and Nicobar Islands\",\"Andhra Pradesh\",\"Arunachal Pradesh\"]\n",
        "\n",
        "print(len(liststate))"
      ],
      "execution_count": null,
      "outputs": []
    },
    {
      "cell_type": "code",
      "metadata": {
        "id": "miQVv9er3CpY",
        "colab_type": "code",
        "colab": {}
      },
      "source": [
        "listdis=[]\n",
        "j=0\n",
        "for i  in liststate:\n",
        "   dislist=[]\n",
        "   temp=df(r.json()[i][\"districtData\"])\n",
        "   for x in temp.head():\n",
        "         dislist.append(x)\n",
        "   listdis.append(dislist)\n",
        "print(listdis)         "
      ],
      "execution_count": null,
      "outputs": []
    },
    {
      "cell_type": "code",
      "metadata": {
        "id": "C8PJK7XY9l-i",
        "colab_type": "code",
        "colab": {}
      },
      "source": [
        "dicdis=df(listdis)\n",
        "#print(dicdis)\n",
        "assam=dicdis.loc[0]\n",
        "assams=[]\n",
        "for b in assam:\n",
        "  if  b is not None:\n",
        "    assams.append(b)\n",
        "print(assams)"
      ],
      "execution_count": null,
      "outputs": []
    },
    {
      "cell_type": "code",
      "metadata": {
        "id": "-_ItJErHeqJr",
        "colab_type": "code",
        "colab": {}
      },
      "source": [
        "assamss=df(r.json()[\"Assam\"][\"districtData\"])\n",
        "assamactive=[]\n",
        "assamconfirmed=[]\n",
        "assamdeceased=[]\n",
        "assamrecovered=[]\n",
        "for i in assams:\n",
        " if(i==\"Airport Quarantine\" or i==\"Unknown\" or i==\"Other State\" or i==\"Foreign Evacuees\"or i==\"Other Region\" or i==\"CAPF Personnel\"or i==\"Railway Quarantine\"):\n",
        "    continue\n",
        " else :\n",
        "  assamactive.append(assamss[i][\"active\"])\n",
        "  assamconfirmed.append(assamss[i][\"confirmed\"])\n",
        "  assamdeceased.append(assamss[i][\"deceased\"])\n",
        "  assamrecovered.append(assamss[i][\"recovered\"])\n",
        "\n",
        "print(len(assamactive))\n",
        "print(len(assamconfirmed))\n",
        "print(len(assamdeceased))\n",
        "print(len(assamrecovered))"
      ],
      "execution_count": null,
      "outputs": []
    },
    {
      "cell_type": "code",
      "metadata": {
        "id": "jrPK6_7Sud4r",
        "colab_type": "code",
        "colab": {}
      },
      "source": [
        "bihar=dicdis.loc[1]\n",
        "bihars=[]\n",
        "for b in bihar:\n",
        "  if  b is not None:\n",
        "    bihars.append(b)\n",
        "print(bihars)\n"
      ],
      "execution_count": null,
      "outputs": []
    },
    {
      "cell_type": "code",
      "metadata": {
        "id": "ruW-GHxrxlru",
        "colab_type": "code",
        "colab": {}
      },
      "source": [
        "biharss=df(r.json()[\"Bihar\"][\"districtData\"])\n",
        "biharactive=[]\n",
        "biharconfirmed=[]\n",
        "bihardeceased=[]\n",
        "biharrecovered=[]\n",
        "for i in bihars:\n",
        " if(i==\"Airport Quarantine\" or i==\"Unknown\" or i==\"Other State\" or i==\"Foreign Evacuees\"or i==\"Other Region\" or i==\"CAPF Personnel\"or i==\"Railway Quarantine\"):\n",
        "    continue\n",
        " else :\n",
        "  biharactive.append(biharss[i][\"active\"])\n",
        "  biharconfirmed.append(biharss[i][\"confirmed\"])\n",
        "  bihardeceased.append(biharss[i][\"deceased\"])\n",
        "  biharrecovered.append(biharss[i][\"recovered\"])\n",
        "print(biharrecovered)"
      ],
      "execution_count": null,
      "outputs": []
    },
    {
      "cell_type": "code",
      "metadata": {
        "id": "kTYEmBQcjTv-",
        "colab_type": "code",
        "colab": {}
      },
      "source": [
        "Chandigarh=dicdis.loc[2]\n",
        "Chandigarhs=[]\n",
        "for b in Chandigarh:\n",
        "  if  b is not None:\n",
        "    Chandigarhs.append(b)\n",
        "print(Chandigarhs)"
      ],
      "execution_count": null,
      "outputs": []
    },
    {
      "cell_type": "code",
      "metadata": {
        "id": "ApxN2KE4knmm",
        "colab_type": "code",
        "colab": {}
      },
      "source": [
        "Chandigarhss=df(r.json()[\"Chandigarh\"][\"districtData\"])\n",
        "Chandigarhactive=[]\n",
        "Chandigarhconfirmed=[]\n",
        "Chandigarhdeceased=[]\n",
        "Chandigarhrecovered=[]\n",
        "for i in Chandigarhs:\n",
        " if(i==\"Airport Quarantine\" or i==\"Unknown\" or i==\"Other State\" or i==\"Foreign Evacuees\"or i==\"Other Region\" or i==\"CAPF Personnel\"or i==\"Railway Quarantine\"):\n",
        "    continue\n",
        " else : \n",
        "  Chandigarhactive.append(Chandigarhss[i]['active'])\n",
        "  Chandigarhconfirmed.append(Chandigarhss[i][\"confirmed\"])\n",
        "  Chandigarhdeceased.append(Chandigarhss[i][\"deceased\"])\n",
        "  Chandigarhrecovered.append(Chandigarhss[i][\"recovered\"])\n",
        "  print(Chandigarhactive)\n",
        "\n"
      ],
      "execution_count": null,
      "outputs": []
    },
    {
      "cell_type": "code",
      "metadata": {
        "id": "BqZOtLGoodPG",
        "colab_type": "code",
        "colab": {}
      },
      "source": [
        "Chhattisgarh=dicdis.loc[3]\n",
        "Chhattisgarhs=[]\n",
        "for ch in Chhattisgarh:\n",
        "  if ch is not None:\n",
        "    Chhattisgarhs.append(ch)\n",
        "\n",
        "Chhattisgarhss=df(r.json()[\"Chhattisgarh\"][\"districtData\"])\n",
        "Chhattisgarhactive=[]\n",
        "Chhattisgarhconfirmed=[]\n",
        "Chhattisgarhdeceased=[]\n",
        "Chhattisgarhrecovered=[]\n",
        "for i in Chhattisgarhs:\n",
        " if(i==\"Airport Quarantine\" or i==\"Unknown\" or i==\"Other State\" or i==\"Foreign Evacuees\"or i==\"Other Region\" or i==\"CAPF Personnel\"or i==\"Railway Quarantine\"):\n",
        "    continue\n",
        " else : \n",
        "    Chhattisgarhactive.append(Chhattisgarhss[i][\"active\"])\n",
        "    Chhattisgarhconfirmed.append(Chhattisgarhss[i][\"confirmed\"])\n",
        "    Chhattisgarhdeceased.append(Chhattisgarhss[i][\"deceased\"])\n",
        "    Chhattisgarhrecovered.append(Chhattisgarhss[i][\"recovered\"])\n",
        "print(len(Chhattisgarhactive) ) \n",
        "print(len(Chhattisgarhs) ) "
      ],
      "execution_count": null,
      "outputs": []
    },
    {
      "cell_type": "code",
      "metadata": {
        "id": "7PzMQnEtuhBB",
        "colab_type": "code",
        "colab": {}
      },
      "source": [
        "Delhi=dicdis.loc[4]\n",
        "Delhis=[]\n",
        "for ch in Delhi:\n",
        "  if ch is not None:\n",
        "   Delhis.append(ch)\n",
        "print(Delhis)\n",
        "Delhiss=df(r.json()[\"Delhi\"][\"districtData\"])\n",
        "Delhiactive=[]\n",
        "Delhiconfirmed=[]\n",
        "Delhideceased=[]\n",
        "Delhirecovered=[]\n",
        "for i in Delhis:\n",
        "  if(i==\"Airport Quarantine\" or i==\"Unknown\" or i==\"Other State\" or i==\"Foreign Evacuees\"or i==\"Other Region\" or i==\"CAPF Personnel\"or i==\"Railway Quarantine\"):\n",
        "    continue\n",
        "  else :\n",
        "  \n",
        "    Delhiactive.append(Delhiss[i][\"active\"])\n",
        "    Delhiconfirmed.append(Delhiss[i][\"confirmed\"])\n",
        "    Delhideceased.append(Delhiss[i][\"deceased\"])\n",
        "    Delhirecovered.append(Delhiss[i][\"recovered\"])\n",
        "print(Delhiactive)  "
      ],
      "execution_count": null,
      "outputs": []
    },
    {
      "cell_type": "code",
      "metadata": {
        "id": "YjRQUMirs3Gq",
        "colab_type": "code",
        "colab": {}
      },
      "source": [
        "Dadra_and_Nagar_Haveli_and_Daman_and_Diu=dicdis.loc[5]\n",
        "Dadra_and_Nagar_Haveli_and_Daman_and_Diu_s=[]\n",
        "for ch in Dadra_and_Nagar_Haveli_and_Daman_and_Diu:\n",
        "  if ch is not None:\n",
        "   Dadra_and_Nagar_Haveli_and_Daman_and_Diu_s.append(ch)\n",
        "print(Dadra_and_Nagar_Haveli_and_Daman_and_Diu_s)\n",
        "Dadra_and_Nagar_Haveli_and_Daman_and_Diu_ss=df(r.json()[\"Dadra and Nagar Haveli and Daman and Diu\"][\"districtData\"])\n",
        "Dadra_and_Nagar_Haveli_and_Daman_and_Diu_active=[]\n",
        "Dadra_and_Nagar_Haveli_and_Daman_and_Diu_confirmed=[]\n",
        "Dadra_and_Nagar_Haveli_and_Daman_and_Diu_deceased=[]\n",
        "Dadra_and_Nagar_Haveli_and_Daman_and_Diu_recovered=[]\n",
        "for i in Dadra_and_Nagar_Haveli_and_Daman_and_Diu_s:\n",
        "  if(i==\"Airport Quarantine\" or i==\"Unknown\" or i==\"Other State\" or i==\"Foreign Evacuees\"or i==\"Other Region\" or i==\"CAPF Personnel\"or i==\"Railway Quarantine\"):\n",
        "    continue\n",
        "  else :\n",
        "    Dadra_and_Nagar_Haveli_and_Daman_and_Diu_active.append(Dadra_and_Nagar_Haveli_and_Daman_and_Diu_ss[i][\"active\"])\n",
        "    Dadra_and_Nagar_Haveli_and_Daman_and_Diu_confirmed.append(Dadra_and_Nagar_Haveli_and_Daman_and_Diu_ss[i][\"confirmed\"])\n",
        "    Dadra_and_Nagar_Haveli_and_Daman_and_Diu_deceased.append(Dadra_and_Nagar_Haveli_and_Daman_and_Diu_ss[i][\"deceased\"])\n",
        "    Dadra_and_Nagar_Haveli_and_Daman_and_Diu_recovered.append(Dadra_and_Nagar_Haveli_and_Daman_and_Diu_ss[i][\"recovered\"])\n",
        "print(Dadra_and_Nagar_Haveli_and_Daman_and_Diu_active)  "
      ],
      "execution_count": null,
      "outputs": []
    },
    {
      "cell_type": "code",
      "metadata": {
        "id": "7hD1ftHeu4kR",
        "colab_type": "code",
        "colab": {}
      },
      "source": [
        "Goa=dicdis.loc[6]\n",
        "Goa_s=[]\n",
        "for ch in Goa:\n",
        "  if ch is not None:\n",
        "   Goa_s.append(ch)\n",
        "print(Goa_s)\n",
        "Goa_ss=df(r.json()[\"Goa\"][\"districtData\"])\n",
        "Goa_active=[]\n",
        "Goa_confirmed=[]\n",
        "Goa_deceased=[]\n",
        "Goa_recovered=[]\n",
        "for i in Goa_s:\n",
        "   if(i==\"Airport Quarantine\" or i==\"Unknown\" or i==\"Other State\" or i==\"Foreign Evacuees\"or i==\"Other Region\" or i==\"CAPF Personnel\"or i==\"Railway Quarantine\"):\n",
        "    continue\n",
        "   else :\n",
        "    Goa_active.append(Goa_ss[i][\"active\"])\n",
        "    Goa_confirmed.append(Goa_ss[i][\"confirmed\"])\n",
        "    Goa_deceased.append(Goa_ss[i][\"deceased\"])\n",
        "    Goa_recovered.append(Goa_ss[i][\"recovered\"])\n",
        "print(Goa_active)  "
      ],
      "execution_count": null,
      "outputs": []
    },
    {
      "cell_type": "code",
      "metadata": {
        "id": "2vrdd8KEv85C",
        "colab_type": "code",
        "colab": {}
      },
      "source": [
        "Gujarat=dicdis.loc[7]\n",
        "Gujarat_s=[]\n",
        "for ch in Gujarat:\n",
        "  if ch is not None:\n",
        "   Gujarat_s.append(ch)\n",
        "print(Gujarat_s)\n",
        "Gujarat_ss=df(r.json()[\"Gujarat\"][\"districtData\"])\n",
        "Gujarat_active=[]\n",
        "Gujarat_confirmed=[]\n",
        "Gujarat_deceased=[]\n",
        "Gujarat_recovered=[]\n",
        "for i in Gujarat_s:\n",
        "  if(i==\"Airport Quarantine\" or i==\"Unknown\" or i==\"Other State\" or i==\"Foreign Evacuees\"or i==\"Other Region\" or i==\"CAPF Personnel\"or i==\"Railway Quarantine\"):\n",
        "    continue\n",
        "  else :\n",
        "    Gujarat_active.append(Gujarat_ss[i][\"active\"])\n",
        "    Gujarat_confirmed.append(Gujarat_ss[i][\"confirmed\"])\n",
        "    Gujarat_deceased.append(Gujarat_ss[i][\"deceased\"])\n",
        "    Gujarat_recovered.append(Gujarat_ss[i][\"recovered\"])\n",
        "print(len(Gujarat_active)) \n",
        "print(len(Gujarat_s))"
      ],
      "execution_count": null,
      "outputs": []
    },
    {
      "cell_type": "code",
      "metadata": {
        "id": "bzYvrQr5w9ga",
        "colab_type": "code",
        "colab": {}
      },
      "source": [
        "Himachal_Pradesh=dicdis.loc[8]\n",
        "Himachal_Pradesh_s=[]\n",
        "for ch in Himachal_Pradesh:\n",
        "  if ch is not None:\n",
        "   Himachal_Pradesh_s.append(ch)\n",
        "print(Himachal_Pradesh_s)\n",
        "Himachal_Pradesh_ss=df(r.json()[\"Himachal Pradesh\"][\"districtData\"])\n",
        "Himachal_Pradesh_active=[]\n",
        "Himachal_Pradesh_confirmed=[]\n",
        "Himachal_Pradesh_deceased=[]\n",
        "Himachal_Pradesh_recovered=[]\n",
        "for i in Himachal_Pradesh_s:\n",
        "  if(i==\"Airport Quarantine\" or i==\"Unknown\" or i==\"Other State\" or i==\"Foreign Evacuees\"or i==\"Other Region\" or i==\"CAPF Personnel\"or i==\"Railway Quarantine\"):\n",
        "    continue\n",
        "  else :\n",
        "    Himachal_Pradesh_active.append(Himachal_Pradesh_ss[i][\"active\"])\n",
        "    Himachal_Pradesh_confirmed.append(Himachal_Pradesh_ss[i][\"confirmed\"])\n",
        "    Himachal_Pradesh_deceased.append(Himachal_Pradesh_ss[i][\"deceased\"])\n",
        "    Himachal_Pradesh_recovered.append(Himachal_Pradesh_ss[i][\"recovered\"])\n",
        "print(Himachal_Pradesh_active) "
      ],
      "execution_count": null,
      "outputs": []
    },
    {
      "cell_type": "code",
      "metadata": {
        "id": "e6q62EVI0BXy",
        "colab_type": "code",
        "colab": {}
      },
      "source": [
        "Haryana=dicdis.loc[9]\n",
        "Haryana_s=[]\n",
        "for ch in Haryana:\n",
        "  if ch is not None:\n",
        "   Haryana_s.append(ch)\n",
        "print(Haryana_s)\n",
        "Haryana_ss=df(r.json()[\"Haryana\"][\"districtData\"])\n",
        "Haryana_active=[]\n",
        "Haryana_confirmed=[]\n",
        "Haryana_deceased=[]\n",
        "Haryana_recovered=[]\n",
        "for i in Haryana_s:\n",
        " if(i==\"Airport Quarantine\" or i==\"Unknown\" or i==\"Other State\" or i==\"Foreign Evacuees\"or i==\"Other Region\" or i==\"CAPF Personnel\"or i==\"Railway Quarantine\"):\n",
        "    continue\n",
        " else :\n",
        "    Haryana_active.append(Haryana_ss[i][\"active\"])\n",
        "    Haryana_confirmed.append(Haryana_ss[i][\"confirmed\"])\n",
        "    Haryana_deceased.append(Haryana_ss[i][\"deceased\"])\n",
        "    Haryana_recovered.append(Haryana_ss[i][\"recovered\"])\n",
        "print(Himachal_Pradesh_active)"
      ],
      "execution_count": null,
      "outputs": []
    },
    {
      "cell_type": "code",
      "metadata": {
        "id": "45ZSGc8V01-6",
        "colab_type": "code",
        "colab": {}
      },
      "source": [
        "Haryana=dicdis.loc[9]\n",
        "Haryana_s=[]\n",
        "for ch in Haryana:\n",
        "  if ch is not None:\n",
        "   Haryana_s.append(ch)\n",
        "print(Haryana_s)\n",
        "Haryana_ss=df(r.json()[\"Haryana\"][\"districtData\"])\n",
        "Haryana_active=[]\n",
        "Haryana_confirmed=[]\n",
        "Haryana_deceased=[]\n",
        "Haryana_recovered=[]\n",
        "for i in Haryana_s:\n",
        "  if(i==\"Airport Quarantine\" or i==\"Unknown\" or i==\"Other State\" or i==\"Foreign Evacuees\"or i==\"Other Region\" or i==\"CAPF Personnel\"or i==\"Railway Quarantine\"):\n",
        "    continue\n",
        "  else :\n",
        "    Haryana_active.append(Haryana_ss[i][\"active\"])\n",
        "    Haryana_confirmed.append(Haryana_ss[i][\"confirmed\"])\n",
        "    Haryana_deceased.append(Haryana_ss[i][\"deceased\"])\n",
        "    Haryana_recovered.append(Haryana_ss[i][\"recovered\"])\n",
        "print(Haryana_active)"
      ],
      "execution_count": null,
      "outputs": []
    },
    {
      "cell_type": "code",
      "metadata": {
        "id": "sXIJxqh69hNV",
        "colab_type": "code",
        "colab": {}
      },
      "source": [
        "Jharkhand=dicdis.loc[10]\n",
        "Jharkhand_s=[]\n",
        "for ch in Jharkhand:\n",
        "  if ch is not None:\n",
        "   Jharkhand_s.append(ch)\n",
        "print(Jharkhand_s)\n",
        "Jharkhand_ss=df(r.json()[\"Jharkhand\"][\"districtData\"])\n",
        "Jharkhand_active=[]\n",
        "Jharkhand_confirmed=[]\n",
        "Jharkhand_deceased=[]\n",
        "Jharkhand_recovered=[]\n",
        "for i in Jharkhand_s:\n",
        "  if(i==\"Airport Quarantine\" or i==\"Unknown\" or i==\"Other State\" or i==\"Foreign Evacuees\"or i==\"Other Region\" or i==\"CAPF Personnel\"or i==\"Railway Quarantine\"):\n",
        "    continue\n",
        "  else :  \n",
        "    Jharkhand_active.append(Jharkhand_ss[i][\"active\"])\n",
        "    Jharkhand_confirmed.append(Jharkhand_ss[i][\"confirmed\"])\n",
        "    Jharkhand_deceased.append(Jharkhand_ss[i][\"deceased\"])\n",
        "    Jharkhand_recovered.append(Jharkhand_ss[i][\"recovered\"])\n",
        "print(Jharkhand_active)"
      ],
      "execution_count": null,
      "outputs": []
    },
    {
      "cell_type": "code",
      "metadata": {
        "id": "PLuOlGQw9rSe",
        "colab_type": "code",
        "colab": {}
      },
      "source": [
        "Jammu_and_Kashmir=dicdis.loc[11]\n",
        "Jammu_and_Kashmir_s=[]\n",
        "for ch in Jammu_and_Kashmir:\n",
        "  if ch is not None:\n",
        "   Jammu_and_Kashmir_s.append(ch)\n",
        "print(Jammu_and_Kashmir_s)\n",
        "Jammu_and_Kashmir_ss=df(r.json()[\"Jammu and Kashmir\"][\"districtData\"])\n",
        "Jammu_and_Kashmir_active=[]\n",
        "Jammu_and_Kashmir_confirmed=[]\n",
        "Jammu_and_Kashmir_deceased=[]\n",
        "Jammu_and_Kashmir_recovered=[]\n",
        "for i in Jammu_and_Kashmir_s:\n",
        "  if(i==\"Airport Quarantine\" or i==\"Unknown\" or i==\"Other State\" or i==\"Foreign Evacuees\"or i==\"Other Region\" or i==\"CAPF Personnel\"or i==\"Railway Quarantine\"):\n",
        "    continue\n",
        "  else :\n",
        "    Jammu_and_Kashmir_active.append(Jammu_and_Kashmir_ss[i][\"active\"])\n",
        "    Jammu_and_Kashmir_confirmed.append(Jammu_and_Kashmir_ss[i][\"confirmed\"])\n",
        "    Jammu_and_Kashmir_deceased.append(Jammu_and_Kashmir_ss[i][\"deceased\"])\n",
        "    Jammu_and_Kashmir_recovered.append(Jammu_and_Kashmir_ss[i][\"recovered\"])\n",
        "print(Jammu_and_Kashmir_active)\n"
      ],
      "execution_count": null,
      "outputs": []
    },
    {
      "cell_type": "code",
      "metadata": {
        "id": "VAta1mpF_VyQ",
        "colab_type": "code",
        "colab": {}
      },
      "source": [
        "Karnataka=dicdis.loc[12]\n",
        "Karnataka_s=[]\n",
        "for ch in Karnataka:\n",
        "  if ch is not None:\n",
        "   Karnataka_s.append(ch)\n",
        "print(Karnataka_s)\n",
        "Karnataka_ss=df(r.json()[\"Karnataka\"][\"districtData\"])\n",
        "Karnataka_active=[]\n",
        "Karnataka_confirmed=[]\n",
        "Karnataka_deceased=[]\n",
        "Karnataka_recovered=[]\n",
        "for i in Karnataka_s:\n",
        "  if(i==\"Airport Quarantine\" or i==\"Unknown\" or i==\"Other State\" or i==\"Foreign Evacuees\"or i==\"Other Region\" or i==\"CAPF Personnel\"or i==\"Railway Quarantine\"):\n",
        "    continue\n",
        "  else :\n",
        "    Karnataka_active.append(Karnataka_ss[i][\"active\"])\n",
        "    Karnataka_confirmed.append(Karnataka_ss[i][\"confirmed\"])\n",
        "    Karnataka_deceased.append(Karnataka_ss[i][\"deceased\"])\n",
        "    Karnataka_recovered.append(Karnataka_ss[i][\"recovered\"])\n",
        "print(Karnataka_active)\n"
      ],
      "execution_count": null,
      "outputs": []
    },
    {
      "cell_type": "code",
      "metadata": {
        "id": "JxkNGqTx_99y",
        "colab_type": "code",
        "colab": {}
      },
      "source": [
        "Kerala=dicdis.loc[13]\n",
        "Kerala_s=[]\n",
        "for ch in Kerala:\n",
        "  if ch is not None:\n",
        "   Kerala_s.append(ch)\n",
        "print(Kerala_s)\n",
        "Kerala_ss=df(r.json()[\"Kerala\"][\"districtData\"])\n",
        "Kerala_active=[]\n",
        "Kerala_confirmed=[]\n",
        "Kerala_deceased=[]\n",
        "Kerala_recovered=[]\n",
        "for i in Kerala_s:\n",
        "  if(i==\"Airport Quarantine\" or i==\"Unknown\" or i==\"Other State\" or i==\"Foreign Evacuees\"or i==\"Other Region\" or i==\"CAPF Personnel\"or i==\"Railway Quarantine\"):\n",
        "    continue\n",
        "  else :\n",
        "    Kerala_active.append(Kerala_ss[i][\"active\"])\n",
        "    Kerala_confirmed.append(Kerala_ss[i][\"confirmed\"])\n",
        "    Kerala_deceased.append(Kerala_ss[i][\"deceased\"])\n",
        "    Kerala_recovered.append(Kerala_ss[i][\"recovered\"])\n",
        "print(Kerala_active)\n"
      ],
      "execution_count": null,
      "outputs": []
    },
    {
      "cell_type": "code",
      "metadata": {
        "id": "UQpi-QQDADde",
        "colab_type": "code",
        "colab": {}
      },
      "source": [
        "Ladakh=dicdis.loc[14]\n",
        "Ladakh_s=[]\n",
        "for ch in Ladakh:\n",
        "  if ch is not None:\n",
        "   Ladakh_s.append(ch)\n",
        "print(Ladakh_s)\n",
        "Ladakh_ss=df(r.json()[\"Ladakh\"][\"districtData\"])\n",
        "Ladakh_active=[]\n",
        "Ladakh_confirmed=[]\n",
        "Ladakh_deceased=[]\n",
        "Ladakh_recovered=[]\n",
        "for i in Ladakh_s:\n",
        "  if(i==\"Airport Quarantine\" or i==\"Unknown\" or i==\"Other State\" or i==\"Foreign Evacuees\"or i==\"Other Region\" or i==\"CAPF Personnel\"or i==\"Railway Quarantine\"):\n",
        "    continue\n",
        "  else :\n",
        "    Ladakh_active.append(Ladakh_ss[i][\"active\"])\n",
        "    Ladakh_confirmed.append(Ladakh_ss[i][\"confirmed\"])\n",
        "    Ladakh_deceased.append(Ladakh_ss[i][\"deceased\"])\n",
        "    Ladakh_recovered.append(Ladakh_ss[i][\"recovered\"])\n",
        "print(Ladakh_active)\n"
      ],
      "execution_count": null,
      "outputs": []
    },
    {
      "cell_type": "code",
      "metadata": {
        "id": "0FrWJu7xAP49",
        "colab_type": "code",
        "colab": {}
      },
      "source": [
        "Lakshadweep=dicdis.loc[15]\n",
        "Lakshadweep_s=[]\n",
        "for ch in Lakshadweep:\n",
        "  if ch is not None:\n",
        "   Lakshadweep_s.append(ch)\n",
        "print(Lakshadweep_s)\n",
        "Lakshadweep_ss=df(r.json()[\"Lakshadweep\"][\"districtData\"])\n",
        "Lakshadweep_active=[]\n",
        "Lakshadweep_confirmed=[]\n",
        "Lakshadweep_deceased=[]\n",
        "Lakshadweep_recovered=[]\n",
        "for i in Lakshadweep_s:\n",
        "  if(i==\"Airport Quarantine\" or i==\"Unknown\" or i==\"Other State\" or i==\"Foreign Evacuees\"or i==\"Other Region\" or i==\"CAPF Personnel\"or i==\"Railway Quarantine\"):\n",
        "    continue\n",
        "  else :\n",
        "    Lakshadweep_active.append(Lakshadweep_ss[i][\"active\"])\n",
        "    Lakshadweep_confirmed.append(Lakshadweep_ss[i][\"confirmed\"])\n",
        "    Lakshadweep_deceased.append(Lakshadweep_ss[i][\"deceased\"])\n",
        "    Lakshadweep_recovered.append(Lakshadweep_ss[i][\"recovered\"])\n",
        "print(Lakshadweep_active)\n"
      ],
      "execution_count": null,
      "outputs": []
    },
    {
      "cell_type": "code",
      "metadata": {
        "id": "YY-WUNu-AlSm",
        "colab_type": "code",
        "colab": {}
      },
      "source": [
        "Maharashtra=dicdis.loc[16]\n",
        "Maharashtra_s=[]\n",
        "for ch in Maharashtra:\n",
        "  if ch is not None:\n",
        "   Maharashtra_s.append(ch)\n",
        "print(Maharashtra_s)\n",
        "Maharashtra_ss=df(r.json()[\"Maharashtra\"][\"districtData\"])\n",
        "Maharashtra_active=[]\n",
        "Maharashtra_confirmed=[]\n",
        "Maharashtra_deceased=[]\n",
        "Maharashtra_recovered=[]\n",
        "for i in Maharashtra_s:\n",
        "  if(i==\"Airport Quarantine\" or i==\"Unknown\" or i==\"Other State\" or i==\"Foreign Evacuees\"or i==\"Other Region\" or i==\"CAPF Personnel\"or i==\"Railway Quarantine\"):\n",
        "    continue\n",
        "  else :\n",
        "    Maharashtra_active.append(Maharashtra_ss[i][\"active\"])\n",
        "    Maharashtra_confirmed.append(Maharashtra_ss[i][\"confirmed\"])\n",
        "    Maharashtra_deceased.append(Maharashtra_ss[i][\"deceased\"])\n",
        "    Maharashtra_recovered.append(Maharashtra_ss[i][\"recovered\"])\n",
        "print(Maharashtra_active)\n"
      ],
      "execution_count": null,
      "outputs": []
    },
    {
      "cell_type": "code",
      "metadata": {
        "id": "nh2LyngqA_k8",
        "colab_type": "code",
        "colab": {}
      },
      "source": [
        "Meghalaya=dicdis.loc[17]\n",
        "Meghalaya_s=[]\n",
        "for ch in Meghalaya:\n",
        "  if ch is not None:\n",
        "   Meghalaya_s.append(ch)\n",
        "print(Meghalaya_s)\n",
        "Meghalaya_ss=df(r.json()[\"Meghalaya\"][\"districtData\"])\n",
        "Meghalaya_active=[]\n",
        "Meghalaya_confirmed=[]\n",
        "Meghalaya_deceased=[]\n",
        "Meghalaya_recovered=[]\n",
        "for i in Meghalaya_s:\n",
        "  if(i==\"Airport Quarantine\" or i==\"Unknown\" or i==\"Other State\" or i==\"Foreign Evacuees\"or i==\"Other Region\" or i==\"CAPF Personnel\"or i==\"Railway Quarantine\"):\n",
        "    continue\n",
        "  else :\n",
        "    Meghalaya_active.append(Meghalaya_ss[i][\"active\"])\n",
        "    Meghalaya_confirmed.append(Meghalaya_ss[i][\"confirmed\"])\n",
        "    Meghalaya_deceased.append(Meghalaya_ss[i][\"deceased\"])\n",
        "    Meghalaya_recovered.append(Meghalaya_ss[i][\"recovered\"])\n",
        "print(Meghalaya_active)\n"
      ],
      "execution_count": null,
      "outputs": []
    },
    {
      "cell_type": "code",
      "metadata": {
        "id": "1nU-vdBnBH06",
        "colab_type": "code",
        "colab": {}
      },
      "source": [
        "Manipur=dicdis.loc[18]\n",
        "Manipur_s=[]\n",
        "for ch in Manipur:\n",
        "  if ch is not None:\n",
        "   Manipur_s.append(ch)\n",
        "print(Manipur_s)\n",
        "Manipur_ss=df(r.json()[\"Manipur\"][\"districtData\"])\n",
        "Manipur_active=[]\n",
        "Manipur_confirmed=[]\n",
        "Manipur_deceased=[]\n",
        "Manipur_recovered=[]\n",
        "for i in Manipur_s:\n",
        "  if(i==\"Airport Quarantine\" or i==\"Unknown\" or i==\"Other State\" or i==\"Foreign Evacuees\"or i==\"Other Region\" or i==\"CAPF Personnel\"or i==\"Railway Quarantine\"):\n",
        "    continue\n",
        "  else :\n",
        "    Manipur_active.append(Manipur_ss[i][\"active\"])\n",
        "    Manipur_confirmed.append(Manipur_ss[i][\"confirmed\"])\n",
        "    Manipur_deceased.append(Manipur_ss[i][\"deceased\"])\n",
        "    Manipur_recovered.append(Manipur_ss[i][\"recovered\"])\n",
        "print(Manipur_active)\n"
      ],
      "execution_count": null,
      "outputs": []
    },
    {
      "cell_type": "code",
      "metadata": {
        "id": "dviJK_3DBZ4u",
        "colab_type": "code",
        "colab": {}
      },
      "source": [
        "Madhya_Pradesh=dicdis.loc[19]\n",
        "Madhya_Pradesh_s=[]\n",
        "for ch in Madhya_Pradesh:\n",
        "  if ch is not None:\n",
        "   Madhya_Pradesh_s.append(ch)\n",
        "print(Madhya_Pradesh_s)\n",
        "Madhya_Pradesh_ss=df(r.json()[\"Madhya Pradesh\"][\"districtData\"])\n",
        "Madhya_Pradesh_active=[]\n",
        "Madhya_Pradesh_confirmed=[]\n",
        "Madhya_Pradesh_deceased=[]\n",
        "Madhya_Pradesh_recovered=[]\n",
        "for i in Madhya_Pradesh_s:\n",
        "  if(i==\"Airport Quarantine\" or i==\"Unknown\" or i==\"Other State\" or i==\"Foreign Evacuees\"or i==\"Other Region\" or i==\"CAPF Personnel\"or i==\"Railway Quarantine\"):\n",
        "    continue\n",
        "  else :\n",
        "    Madhya_Pradesh_active.append(Madhya_Pradesh_ss[i][\"active\"])\n",
        "    Madhya_Pradesh_confirmed.append(Madhya_Pradesh_ss[i][\"confirmed\"])\n",
        "    Madhya_Pradesh_deceased.append(Madhya_Pradesh_ss[i][\"deceased\"])\n",
        "    Madhya_Pradesh_recovered.append(Madhya_Pradesh_ss[i][\"recovered\"])\n",
        "print(Madhya_Pradesh_active)\n",
        "\n"
      ],
      "execution_count": null,
      "outputs": []
    },
    {
      "cell_type": "code",
      "metadata": {
        "id": "uY_5C3AoB81l",
        "colab_type": "code",
        "colab": {}
      },
      "source": [
        "Mizoram=dicdis.loc[20]\n",
        "Mizoram_s=[]\n",
        "for ch in Mizoram:\n",
        "  if ch is not None:\n",
        "   Mizoram_s.append(ch)\n",
        "print(Mizoram_s)\n",
        "Mizoram_ss=df(r.json()[\"Mizoram\"][\"districtData\"])\n",
        "Mizoram_active=[]\n",
        "Mizoram_confirmed=[]\n",
        "Mizoram_deceased=[]\n",
        "Mizoram_recovered=[]\n",
        "for i in Mizoram_s:\n",
        "  if(i==\"Airport Quarantine\" or i==\"Unknown\" or i==\"Other State\" or i==\"Foreign Evacuees\"or i==\"Other Region\" or i==\"CAPF Personnel\"or i==\"Railway Quarantine\"):\n",
        "    continue\n",
        "  else :\n",
        "    Mizoram_active.append(Mizoram_ss[i][\"active\"])\n",
        "    Mizoram_confirmed.append(Mizoram_ss[i][\"confirmed\"])\n",
        "    Mizoram_deceased.append(Mizoram_ss[i][\"deceased\"])\n",
        "    Mizoram_recovered.append(Mizoram_ss[i][\"recovered\"])\n",
        "print(Mizoram_active)"
      ],
      "execution_count": null,
      "outputs": []
    },
    {
      "cell_type": "code",
      "metadata": {
        "id": "dDgW8zApCFP5",
        "colab_type": "code",
        "colab": {}
      },
      "source": [
        "Nagaland=dicdis.loc[21]\n",
        "Nagaland_s=[]\n",
        "for ch in Nagaland:\n",
        "  if ch is not None:\n",
        "   Nagaland_s.append(ch)\n",
        "print(Nagaland_s)\n",
        "Nagaland_ss=df(r.json()[\"Nagaland\"][\"districtData\"])\n",
        "Nagaland_active=[]\n",
        "Nagaland_confirmed=[]\n",
        "Nagaland_deceased=[]\n",
        "Nagaland_recovered=[]\n",
        "for i in Nagaland_s:\n",
        "  if(i==\"Airport Quarantine\" or i==\"Unknown\" or i==\"Other State\" or i==\"Foreign Evacuees\"or i==\"Other Region\" or i==\"CAPF Personnel\"or i==\"Railway Quarantine\"):\n",
        "    continue\n",
        "  else :\n",
        "    Nagaland_active.append(Nagaland_ss[i][\"active\"])\n",
        "    Nagaland_confirmed.append(Nagaland_ss[i][\"confirmed\"])\n",
        "    Nagaland_deceased.append(Nagaland_ss[i][\"deceased\"])\n",
        "    Nagaland_recovered.append(Nagaland_ss[i][\"recovered\"])\n",
        "print(Nagaland_active)\n",
        "\n"
      ],
      "execution_count": null,
      "outputs": []
    },
    {
      "cell_type": "code",
      "metadata": {
        "id": "j206oUkRCnTa",
        "colab_type": "code",
        "colab": {}
      },
      "source": [
        "Odisha=dicdis.loc[22]\n",
        "Odisha_s=[]\n",
        "for ch in Odisha:\n",
        "  if ch is not None:\n",
        "   Odisha_s.append(ch)\n",
        "print(Odisha_s)\n",
        "Odisha_ss=df(r.json()[\"Odisha\"][\"districtData\"])\n",
        "Odisha_active=[]\n",
        "Odisha_confirmed=[]\n",
        "Odisha_deceased=[]\n",
        "Odisha_recovered=[]\n",
        "for i in Odisha_s:\n",
        "  if(i==\"Airport Quarantine\" or i==\"Unknown\" or i==\"Other State\" or i==\"Foreign Evacuees\"or i==\"Other Region\" or i==\"CAPF Personnel\"or i==\"Railway Quarantine \" or i==\"Others\"):\n",
        "    continue\n",
        "  else :\n",
        "    Odisha_active.append(Odisha_ss[i][\"active\"])\n",
        "    Odisha_confirmed.append(Odisha_ss[i][\"confirmed\"])\n",
        "    Odisha_deceased.append(Odisha_ss[i][\"deceased\"])\n",
        "    Odisha_recovered.append(Odisha_ss[i][\"recovered\"])\n",
        "print(len(Odisha_active))\n",
        "\n"
      ],
      "execution_count": null,
      "outputs": []
    },
    {
      "cell_type": "code",
      "metadata": {
        "id": "QVkLK8Z5Ct1a",
        "colab_type": "code",
        "colab": {}
      },
      "source": [
        "Punjab=dicdis.loc[23]\n",
        "Punjab_s=[]\n",
        "for ch in Punjab:\n",
        "  if ch is not None:\n",
        "   Punjab_s.append(ch)\n",
        "print(Punjab_s)\n",
        "Punjab_ss=df(r.json()[\"Punjab\"][\"districtData\"])\n",
        "Punjab_active=[]\n",
        "Punjab_confirmed=[]\n",
        "Punjab_deceased=[]\n",
        "Punjab_recovered=[]\n",
        "for i in Punjab_s:\n",
        "  if(i==\"Airport Quarantine\" or i==\"Unknown\" or i==\"Other State\" or i==\"Foreign Evacuees\"or i==\"Other Region\" or i==\"CAPF Personnel\"or i==\"Railway Quarantine\"):\n",
        "    continue\n",
        "  else :\n",
        "    Punjab_active.append(Punjab_ss[i][\"active\"])\n",
        "    Punjab_confirmed.append(Punjab_ss[i][\"confirmed\"])\n",
        "    Punjab_deceased.append(Punjab_ss[i][\"deceased\"])\n",
        "    Punjab_recovered.append(Punjab_ss[i][\"recovered\"])\n",
        "print(Punjab_active)\n",
        "\n"
      ],
      "execution_count": null,
      "outputs": []
    },
    {
      "cell_type": "code",
      "metadata": {
        "id": "C1MGwhysDAK_",
        "colab_type": "code",
        "colab": {}
      },
      "source": [
        "Puducherry=dicdis.loc[24]\n",
        "Puducherry_s=[]\n",
        "for ch in Puducherry:\n",
        "  if ch is not None:\n",
        "   Puducherry_s.append(ch)\n",
        "print(Puducherry_s)\n",
        "Puducherry_ss=df(r.json()[\"Puducherry\"][\"districtData\"])\n",
        "Puducherry_active=[]\n",
        "Puducherry_confirmed=[]\n",
        "Puducherry_deceased=[]\n",
        "Puducherry_recovered=[]\n",
        "for i in Puducherry_s:\n",
        "  if(i==\"Airport Quarantine\" or i==\"Unknown\" or i==\"Other State\" or i==\"Foreign Evacuees\"or i==\"Other Region\" or i==\"CAPF Personnel\"or i==\"Railway Quarantine\"):\n",
        "    continue\n",
        "  else :\n",
        "    Puducherry_active.append(Puducherry_ss[i][\"active\"])\n",
        "    Puducherry_confirmed.append(Puducherry_ss[i][\"confirmed\"])\n",
        "    Puducherry_deceased.append(Puducherry_ss[i][\"deceased\"])\n",
        "    Puducherry_recovered.append(Puducherry_ss[i][\"recovered\"])\n",
        "print(Puducherry_active)\n",
        "\n"
      ],
      "execution_count": null,
      "outputs": []
    },
    {
      "cell_type": "code",
      "metadata": {
        "id": "CIFCdEP1DMjW",
        "colab_type": "code",
        "colab": {}
      },
      "source": [
        "Rajasthan=dicdis.loc[25]\n",
        "Rajasthan_s=[]\n",
        "for ch in Rajasthan:\n",
        "  if ch is not None:\n",
        "   Rajasthan_s.append(ch)\n",
        "print(Rajasthan_s)\n",
        "Rajasthan_ss=df(r.json()[\"Rajasthan\"][\"districtData\"])\n",
        "Rajasthan_active=[]\n",
        "Rajasthan_confirmed=[]\n",
        "Rajasthan_deceased=[]\n",
        "Rajasthan_recovered=[]\n",
        "for i in Rajasthan_s:\n",
        "  if(i==\"Airport Quarantine\" or i==\"Unknown\" or i==\"Other State\" or i==\"Foreign Evacuees\"or i==\"Other Region\" or i==\"CAPF Personnel\"or i==\"Railway Quarantine\"):\n",
        "    continue\n",
        "  else :\n",
        "    Rajasthan_active.append(Rajasthan_ss[i][\"active\"])\n",
        "    Rajasthan_confirmed.append(Rajasthan_ss[i][\"confirmed\"])\n",
        "    Rajasthan_deceased.append(Rajasthan_ss[i][\"deceased\"])\n",
        "    Rajasthan_recovered.append(Rajasthan_ss[i][\"recovered\"])\n",
        "print(Rajasthan_active)\n",
        "\n"
      ],
      "execution_count": null,
      "outputs": []
    },
    {
      "cell_type": "code",
      "metadata": {
        "id": "WZLkY1cBDcUW",
        "colab_type": "code",
        "colab": {}
      },
      "source": [
        "Sikkim=dicdis.loc[26]\n",
        "Sikkim_s=[]\n",
        "for ch in Sikkim:\n",
        "  if ch is not None:\n",
        "   Sikkim_s.append(ch)\n",
        "print(Sikkim_s)\n",
        "Sikkim_ss=df(r.json()[\"Sikkim\"][\"districtData\"])\n",
        "Sikkim_active=[]\n",
        "Sikkim_confirmed=[]\n",
        "Sikkim_deceased=[]\n",
        "Sikkim_recovered=[]\n",
        "for i in Sikkim_s:\n",
        "  if(i==\"Airport Quarantine\" or i==\"Unknown\" or i==\"Other State\" or i==\"Foreign Evacuees\"or i==\"Other Region\" or i==\"CAPF Personnel\"or i==\"Railway Quarantine\"):\n",
        "    continue\n",
        "  else :\n",
        "    Sikkim_active.append(Sikkim_ss[i][\"active\"])\n",
        "    Sikkim_confirmed.append(Sikkim_ss[i][\"confirmed\"])\n",
        "    Sikkim_deceased.append(Sikkim_ss[i][\"deceased\"])\n",
        "    Sikkim_recovered.append(Sikkim_ss[i][\"recovered\"])\n",
        "print(Sikkim_active)\n",
        "\n"
      ],
      "execution_count": null,
      "outputs": []
    },
    {
      "cell_type": "code",
      "metadata": {
        "id": "BYskIhLYDrCP",
        "colab_type": "code",
        "colab": {}
      },
      "source": [
        "Telangana=dicdis.loc[27]\n",
        "Telangana_s=[]\n",
        "for ch in Telangana:\n",
        "  if ch is not None:\n",
        "   Telangana_s.append(ch)\n",
        "print(Telangana_s)\n",
        "Telangana_ss=df(r.json()[\"Telangana\"][\"districtData\"])\n",
        "Telangana_active=[]\n",
        "Telangana_confirmed=[]\n",
        "Telangana_deceased=[]\n",
        "Telangana_recovered=[]\n",
        "for i in Telangana_s:\n",
        "  if(i==\"Airport Quarantine\" or i==\"Unknown\" or i==\"Other State\" or i==\"Foreign Evacuees\"or i==\"Other Region\" or i==\"CAPF Personnel\"or i==\"Railway Quarantine\"):\n",
        "    continue\n",
        "  else :\n",
        "    Telangana_active.append(Telangana_ss[i][\"active\"])\n",
        "    Telangana_confirmed.append(Telangana_ss[i][\"confirmed\"])\n",
        "    Telangana_deceased.append(Telangana_ss[i][\"deceased\"])\n",
        "    Telangana_recovered.append(Telangana_ss[i][\"recovered\"])\n",
        "print(Telangana_active)\n",
        "\n"
      ],
      "execution_count": null,
      "outputs": []
    },
    {
      "cell_type": "code",
      "metadata": {
        "id": "QE4zx23BD-Vz",
        "colab_type": "code",
        "colab": {}
      },
      "source": [
        "Tamil_Nadu=dicdis.loc[28]\n",
        "Tamil_Nadu_s=[]\n",
        "for ch in Tamil_Nadu:\n",
        "  if ch is not None:\n",
        "   Tamil_Nadu_s.append(ch)\n",
        "print(Tamil_Nadu_s)\n",
        "Tamil_Nadu_ss=df(r.json()[\"Tamil Nadu\"][\"districtData\"])\n",
        "Tamil_Nadu_active=[]\n",
        "Tamil_Nadu_confirmed=[]\n",
        "Tamil_Nadu_deceased=[]\n",
        "Tamil_Nadu_recovered=[]\n",
        "for i in Tamil_Nadu_s:\n",
        "  if(i==\"Airport Quarantine\" or i==\"Unknown\" or i==\"Other State\" or i==\"Foreign Evacuees\"or i==\"Other Region\" or i==\"CAPF Personnel\"or i==\"Railway Quarantine\"):\n",
        "    continue\n",
        "  else :\n",
        "    Tamil_Nadu_active.append(Tamil_Nadu_ss[i][\"active\"])\n",
        "    Tamil_Nadu_confirmed.append(Tamil_Nadu_ss[i][\"confirmed\"])\n",
        "    Tamil_Nadu_deceased.append(Tamil_Nadu_ss[i][\"deceased\"])\n",
        "    Tamil_Nadu_recovered.append(Tamil_Nadu_ss[i][\"recovered\"])\n",
        "print(Tamil_Nadu_active)\n",
        "\n"
      ],
      "execution_count": null,
      "outputs": []
    },
    {
      "cell_type": "code",
      "metadata": {
        "id": "18CmgmnyEPQL",
        "colab_type": "code",
        "colab": {}
      },
      "source": [
        "Tripura=dicdis.loc[29]\n",
        "Tripura_s=[]\n",
        "for ch in Tripura:\n",
        "  if ch is not None:\n",
        "   Tripura_s.append(ch)\n",
        "print(Tripura_s)\n",
        "Tripura_ss=df(r.json()[\"Tripura\"][\"districtData\"])\n",
        "Tripura_active=[]\n",
        "Tripura_confirmed=[]\n",
        "Tripura_deceased=[]\n",
        "Tripura_recovered=[]\n",
        "for i in Tripura_s:\n",
        "  if(i==\"Airport Quarantine\" or i==\"Unknown\" or i==\"Other State\" or i==\"Foreign Evacuees\"or i==\"Other Region\" or i==\"CAPF Personnel\"or i==\"Railway Quarantine\"):\n",
        "    continue\n",
        "  else :\n",
        "    Tripura_active.append(Tripura_ss[i][\"active\"])\n",
        "    Tripura_confirmed.append(Tripura_ss[i][\"confirmed\"])\n",
        "    Tripura_deceased.append(Tripura_ss[i][\"deceased\"])\n",
        "    Tripura_recovered.append(Tripura_ss[i][\"recovered\"])\n",
        "print(Tripura_active)\n",
        "\n"
      ],
      "execution_count": null,
      "outputs": []
    },
    {
      "cell_type": "code",
      "metadata": {
        "id": "a3_ppBDDEibw",
        "colab_type": "code",
        "colab": {}
      },
      "source": [
        "Uttar_Pradesh=dicdis.loc[30]\n",
        "Uttar_Pradesh_s=[]\n",
        "for ch in Uttar_Pradesh:\n",
        "  if ch is not None:\n",
        "   Uttar_Pradesh_s.append(ch)\n",
        "print(Uttar_Pradesh_s)\n",
        "Uttar_Pradesh_ss=df(r.json()[\"Uttar Pradesh\"][\"districtData\"])\n",
        "Uttar_Pradesh_active=[]\n",
        "Uttar_Pradesh_confirmed=[]\n",
        "Uttar_Pradesh_deceased=[]\n",
        "Uttar_Pradesh_recovered=[]\n",
        "for i in Uttar_Pradesh_s:\n",
        "  if(i==\"Airport Quarantine\" or i==\"Unknown\" or i==\"Other State\" or i==\"Foreign Evacuees\"or i==\"Other Region\" or i==\"CAPF Personnel\"or i==\"Railway Quarantine\"):\n",
        "    continue\n",
        "  else :\n",
        "    Uttar_Pradesh_active.append(Uttar_Pradesh_ss[i][\"active\"])\n",
        "    Uttar_Pradesh_confirmed.append(Uttar_Pradesh_ss[i][\"confirmed\"])\n",
        "    Uttar_Pradesh_deceased.append(Uttar_Pradesh_ss[i][\"deceased\"])\n",
        "    Uttar_Pradesh_recovered.append(Uttar_Pradesh_ss[i][\"recovered\"])\n",
        "print(Uttar_Pradesh_active)\n",
        "\n"
      ],
      "execution_count": null,
      "outputs": []
    },
    {
      "cell_type": "code",
      "metadata": {
        "id": "bseYWpP3E28A",
        "colab_type": "code",
        "colab": {}
      },
      "source": [
        "Uttarakhand=dicdis.loc[31]\n",
        "Uttarakhand_s=[]\n",
        "for ch in Uttarakhand:\n",
        "  if ch is not None:\n",
        "   Uttarakhand_s.append(ch)\n",
        "print(Uttarakhand_s)\n",
        "Uttarakhand_ss=df(r.json()[\"Uttarakhand\"][\"districtData\"])\n",
        "Uttarakhand_active=[]\n",
        "Uttarakhand_confirmed=[]\n",
        "Uttarakhand_deceased=[]\n",
        "Uttarakhand_recovered=[]\n",
        "for i in Uttarakhand_s:\n",
        "  if(i==\"Airport Quarantine\" or i==\"Unknown\" or i==\"Other State\" or i==\"Foreign Evacuees\"or i==\"Other Region\" or i==\"CAPF Personnel\"or i==\"Railway Quarantine\"):\n",
        "    continue\n",
        "  else :\n",
        "    Uttarakhand_active.append(Uttarakhand_ss[i][\"active\"])\n",
        "    Uttarakhand_confirmed.append(Uttarakhand_ss[i][\"confirmed\"])\n",
        "    Uttarakhand_deceased.append(Uttarakhand_ss[i][\"deceased\"])\n",
        "    Uttarakhand_recovered.append(Uttarakhand_ss[i][\"recovered\"])\n",
        "print(Uttarakhand_active)\n",
        "\n"
      ],
      "execution_count": null,
      "outputs": []
    },
    {
      "cell_type": "code",
      "metadata": {
        "id": "HF2itiXXFWt5",
        "colab_type": "code",
        "colab": {}
      },
      "source": [
        "West_Bengal=dicdis.loc[32]\n",
        "West_Bengal_s=[]\n",
        "for ch in West_Bengal:\n",
        "  if ch is not None:\n",
        "   West_Bengal_s.append(ch)\n",
        "print(West_Bengal_s)\n",
        "West_Bengal_ss=df(r.json()[\"West Bengal\"][\"districtData\"])\n",
        "West_Bengal_active=[]\n",
        "West_Bengal_confirmed=[]\n",
        "West_Bengal_deceased=[]\n",
        "West_Bengal_recovered=[]\n",
        "for i in West_Bengal_s:\n",
        "  if(i==\"Airport Quarantine\" or i==\"Unknown\" or i==\"Other State\" or i==\"Foreign Evacuees\"or i==\"Other Region\" or i==\"CAPF Personnel\"or i==\"Railway Quarantine\"):\n",
        "    continue\n",
        "  else :\n",
        "    West_Bengal_active.append(West_Bengal_ss[i][\"active\"])\n",
        "    West_Bengal_confirmed.append(West_Bengal_ss[i][\"confirmed\"])\n",
        "    West_Bengal_deceased.append(West_Bengal_ss[i][\"deceased\"])\n",
        "    West_Bengal_recovered.append(West_Bengal_ss[i][\"recovered\"])\n",
        "print(West_Bengal_active)\n",
        "\n"
      ],
      "execution_count": null,
      "outputs": []
    },
    {
      "cell_type": "code",
      "metadata": {
        "id": "yqyAjx59GSh4",
        "colab_type": "code",
        "colab": {}
      },
      "source": [
        "Andaman_and_Nicobar_Islands=dicdis.loc[33]\n",
        "Andaman_and_Nicobar_Islands_s=[]\n",
        "for ch in Andaman_and_Nicobar_Islands:\n",
        "  if ch is not None:\n",
        "   Andaman_and_Nicobar_Islands_s.append(ch)\n",
        "print(Andaman_and_Nicobar_Islands_s)\n",
        "Andaman_and_Nicobar_Islands_ss=df(r.json()[\"Andaman and Nicobar Islands\"][\"districtData\"])\n",
        "Andaman_and_Nicobar_Islands_active=[]\n",
        "Andaman_and_Nicobar_Islands_confirmed=[]\n",
        "Andaman_and_Nicobar_Islands_deceased=[]\n",
        "Andaman_and_Nicobar_Islands_recovered=[]\n",
        "for i in Andaman_and_Nicobar_Islands_s:\n",
        "  if(i==\"Airport Quarantine\" or i==\"Unknown\" or i==\"Other State\" or i==\"Foreign Evacuees\"or i==\"Other Region\" or i==\"CAPF Personnel\"or i==\"Railway Quarantine\" or i==\"Nicobars\"):\n",
        "    continue\n",
        "  else :\n",
        "    Andaman_and_Nicobar_Islands_active.append(Andaman_and_Nicobar_Islands_ss[i][\"active\"])\n",
        "    Andaman_and_Nicobar_Islands_confirmed.append(Andaman_and_Nicobar_Islands_ss[i][\"confirmed\"])\n",
        "    Andaman_and_Nicobar_Islands_deceased.append(Andaman_and_Nicobar_Islands_ss[i][\"deceased\"])\n",
        "    Andaman_and_Nicobar_Islands_recovered.append(Andaman_and_Nicobar_Islands_ss[i][\"recovered\"])\n",
        "print(Andaman_and_Nicobar_Islands_active)\n",
        "\n"
      ],
      "execution_count": null,
      "outputs": []
    },
    {
      "cell_type": "code",
      "metadata": {
        "id": "NlKUtHTaG1RW",
        "colab_type": "code",
        "colab": {}
      },
      "source": [
        "Andhra_Pradesh=dicdis.loc[34]\n",
        "Andhra_Pradesh_s=[]\n",
        "for ch in Andhra_Pradesh:\n",
        "  if ch is not None:\n",
        "   Andhra_Pradesh_s.append(ch)\n",
        "print(Andhra_Pradesh_s)\n",
        "Andhra_Pradesh_ss=df(r.json()[\"Andhra Pradesh\"][\"districtData\"])\n",
        "Andhra_Pradesh_active=[]\n",
        "Andhra_Pradesh_confirmed=[]\n",
        "Andhra_Pradesh_deceased=[]\n",
        "Andhra_Pradesh_recovered=[]\n",
        "for i in Andhra_Pradesh_s:\n",
        "  if(i==\"Airport Quarantine\" or i==\"Unknown\" or i==\"Other State\" or i==\"Foreign Evacuees\"or i==\"Other Region\" or i==\"CAPF Personnel\"or i==\"Railway Quarantine\"):\n",
        "    continue\n",
        "  else :\n",
        "    Andhra_Pradesh_active.append(Andhra_Pradesh_ss[i][\"active\"])\n",
        "    Andhra_Pradesh_confirmed.append(Andhra_Pradesh_ss[i][\"confirmed\"])\n",
        "    Andhra_Pradesh_deceased.append(Andhra_Pradesh_ss[i][\"deceased\"])\n",
        "    Andhra_Pradesh_recovered.append(Andhra_Pradesh_ss[i][\"recovered\"])\n",
        "print(Andhra_Pradesh_active)\n",
        "\n"
      ],
      "execution_count": null,
      "outputs": []
    },
    {
      "cell_type": "code",
      "metadata": {
        "id": "bEAUW7OeHEOa",
        "colab_type": "code",
        "colab": {}
      },
      "source": [
        "Arunachal_Pradesh=dicdis.loc[35]\n",
        "Arunachal_Pradesh_s=[]\n",
        "for ch in Arunachal_Pradesh:\n",
        "  if ch is not None:\n",
        "   Arunachal_Pradesh_s.append(ch)\n",
        "print(Arunachal_Pradesh_s)\n",
        "Arunachal_Pradesh_ss=df(r.json()[\"Arunachal Pradesh\"][\"districtData\"])\n",
        "Arunachal_Pradesh_active=[]\n",
        "Arunachal_Pradesh_confirmed=[]\n",
        "Arunachal_Pradesh_deceased=[]\n",
        "Arunachal_Pradesh_recovered=[]\n",
        "for i in Arunachal_Pradesh_s:\n",
        "  if(i==\"Airport Quarantine\" or i==\"Unknown\" or i==\"Other State\" or i==\"Foreign Evacuees\"or i==\"Other Region\" or i==\"CAPF Personnel\"or i==\"Railway Quarantine\"):\n",
        "    continue\n",
        "  else :\n",
        "    Arunachal_Pradesh_active.append(Arunachal_Pradesh_ss[i][\"active\"])\n",
        "    Arunachal_Pradesh_confirmed.append(Arunachal_Pradesh_ss[i][\"confirmed\"])\n",
        "    Arunachal_Pradesh_deceased.append(Arunachal_Pradesh_ss[i][\"deceased\"])\n",
        "    Arunachal_Pradesh_recovered.append(Arunachal_Pradesh_ss[i][\"recovered\"])\n",
        "print(Arunachal_Pradesh_active)\n",
        "\n"
      ],
      "execution_count": null,
      "outputs": []
    },
    {
      "cell_type": "code",
      "metadata": {
        "id": "1c2cvOn3Ld3k",
        "colab_type": "code",
        "colab": {}
      },
      "source": [
        "plistdis=[]\n",
        "for i in listdis:\n",
        "  col=[]\n",
        "  for  j in i:\n",
        "     if(j==\"Airport Quarantine\" or j==\"Unknown\" or j==\"Other State\" or j==\"Foreign Evacuees\"or j==\"Other Region\" or j==\"CAPF Personnel\"or j==\"Railway Quarantine\"):\n",
        "       continue\n",
        "     else :\n",
        "       col.append(j)\n",
        "     plistdis.append(col)  \n",
        "print(plistdis)         "
      ],
      "execution_count": null,
      "outputs": []
    },
    {
      "cell_type": "code",
      "metadata": {
        "id": "OtJbp9SiW9Ew",
        "colab_type": "code",
        "colab": {}
      },
      "source": [
        "purelist=[]"
      ],
      "execution_count": null,
      "outputs": []
    },
    {
      "cell_type": "code",
      "metadata": {
        "id": "oiOPfLGpSTFt",
        "colab_type": "code",
        "colab": {}
      },
      "source": [
        "\n",
        "import geopy\n",
        "from geopy.geocoders import Nominatim\n",
        "nom=Nominatim(user_agent=\"hulk\")\n",
        "\"\"\"name=[]\n",
        "dislat=[]\n",
        "dislon=[]\n",
        "for i in plistdis:\n",
        "  for  j in i:\n",
        "     n=nom.geocode(j)\n",
        "     if n is None:\n",
        "       name.append(n)\n",
        "       continue\n",
        "     else :\n",
        "        dislat.append(n.latitude) \n",
        "        dislon.append(n.longitude)\n",
        "print(dislat)\n",
        "print(dislon)\n",
        "print(purelist)        \n",
        "\"\"\"        \n"
      ],
      "execution_count": null,
      "outputs": []
    },
    {
      "cell_type": "code",
      "metadata": {
        "id": "y1Kbw2rQct8B",
        "colab_type": "code",
        "colab": {}
      },
      "source": [
        "\n",
        "for i in assams:\n",
        "     if(i==\"Airport Quarantine\" or i==\"Unknown\" or i==\"Other State\" or i==\"Foreign Evacuees\"or i==\"Other Region\" or i==\"CAPF Personnel\"or i==\"Railway Quarantine\"):\n",
        "      assams.remove(i)\n",
        "print(assams)\n",
        "lat_assams=[]\n",
        "lon_assams=[]\n",
        "for i in assams:\n",
        "    n=nom.geocode(i)\n",
        "    if n is not None:\n",
        "      lat_assams.append(n.latitude) \n",
        "      lon_assams.append(n.longitude)\n",
        "      #print(\"name-\",n,\"latitude\",n.latitude,\"lon\",n.longitude)      \n",
        "    else :\n",
        "      lat_assams.append(0) \n",
        "      lon_assams.append(0)\n",
        "print(len(assams))\n",
        "print(len(lat_assams),\",\",len(lon_assams))\n",
        "\n",
        "      "
      ],
      "execution_count": null,
      "outputs": []
    },
    {
      "cell_type": "code",
      "metadata": {
        "id": "QkHVnlQJbGJi",
        "colab_type": "code",
        "colab": {}
      },
      "source": [
        "for i in bihars:\n",
        "     if(i==\"Airport Quarantine\" or i==\"Unknown\" or i==\"Other State\" or i==\"Foreign Evacuees\"or i==\"Other Region\" or i==\"CAPF Personnel\"or i==\"Railway Quarantine\"):\n",
        "      bihars.remove(i)\n",
        "print(bihars)\n",
        "lat_bihars=[]\n",
        "lon_bihars=[]\n",
        "for i in bihars:\n",
        "    n=nom.geocode(i)\n",
        "    if n is not None:\n",
        "      lat_bihars.append(n.latitude) \n",
        "      lon_bihars.append(n.longitude)\n",
        "      #print(\"name-\",n,\"latitude\",n.latitude,\"lon\",n.longitude)\n",
        "    else :\n",
        "      lat_bihars.append(0) \n",
        "      lon_bihars.append(0)     \n",
        "print(len(bihars))\n",
        "print(len(lat_bihars)) "
      ],
      "execution_count": null,
      "outputs": []
    },
    {
      "cell_type": "code",
      "metadata": {
        "id": "p1JCJ4t3eoZT",
        "colab_type": "code",
        "colab": {}
      },
      "source": [
        "for i in Chandigarhs:\n",
        "     if(i==\"Airport Quarantine\" or i==\"Unknown\" or i==\"Other State\" or i==\"Foreign Evacuees\"or i==\"Other Region\" or i==\"CAPF Personnel\"or i==\"Railway Quarantine\"):\n",
        "      Chandigarhs.remove(i)\n",
        "print(Chandigarhs)\n",
        "lat_Chandigarhs=[]\n",
        "lon_Chandigarhs=[]\n",
        "for i in Chandigarhs:\n",
        "    n=nom.geocode(i)\n",
        "    if n is not None:\n",
        "      lat_Chandigarhs.append(n.latitude) \n",
        "      lon_Chandigarhs.append(n.longitude)\n",
        "      print(\"name-\",n,\"latitude\",n.latitude,\"lon\",n.longitude)    \n",
        "    else :\n",
        "      lat_Chandigarhs.append(0) \n",
        "      lon_Chandigarhs.append(0)  "
      ],
      "execution_count": null,
      "outputs": []
    },
    {
      "cell_type": "code",
      "metadata": {
        "id": "inApBKgFtymB",
        "colab_type": "code",
        "colab": {}
      },
      "source": [
        "for i in Chhattisgarhs:\n",
        "     if(i==\"Airport Quarantine\" or i==\"Unknown\" or i==\"Other State\" or i==\"Foreign Evacuees\"or i==\"Other Region\" or i==\"CAPF Personnel\"or i==\"Railway Quarantine\"):\n",
        "      Chhattisgarhs.remove(i)\n",
        "print(Chhattisgarhs)\n",
        "lat_Chhattisgarhs=[]\n",
        "lon_Chhattisgarhs=[]\n",
        "for i in Chhattisgarhs:\n",
        "    n=nom.geocode(i)\n",
        "    if n is not None:\n",
        "      lat_Chhattisgarhs.append(n.latitude) \n",
        "      lon_Chhattisgarhs.append(n.longitude)\n",
        "      print(\"name-\",n,\"latitude\",n.latitude,\"lon\",n.longitude)    \n",
        "    else :\n",
        "      lat_Chhattisgarhs.append(0) \n",
        "      lon_Chhattisgarhs.append(0)  \n"
      ],
      "execution_count": null,
      "outputs": []
    },
    {
      "cell_type": "code",
      "metadata": {
        "id": "hPa4eUCVv3qb",
        "colab_type": "code",
        "colab": {}
      },
      "source": [
        "for i in Delhis:\n",
        "     if(i==\"Airport Quarantine\" or i==\"Unknown\" or i==\"Other State\" or i==\"Foreign Evacuees\"or i==\"Other Region\" or i==\"CAPF Personnel\"or i==\"Railway Quarantine\"):\n",
        "      Delhis.remove(i)\n",
        "print(Delhis)\n",
        "lat_Delhis=[]\n",
        "lon_Delhis=[]\n",
        "for i in Delhis:\n",
        "    n=nom.geocode(i)\n",
        "    if n is not None:\n",
        "      lat_Delhis.append(n.latitude) \n",
        "      lon_Delhis.append(n.longitude)\n",
        "      print(\"name-\",n,\"latitude\",n.latitude,\"lon\",n.longitude)      \n",
        "    else :\n",
        "      lat_Delhis.append(0) \n",
        "      lon_Delhis.append(0)"
      ],
      "execution_count": null,
      "outputs": []
    },
    {
      "cell_type": "code",
      "metadata": {
        "id": "ymudmT6SwWqA",
        "colab_type": "code",
        "colab": {}
      },
      "source": [
        "for i in Dadra_and_Nagar_Haveli_and_Daman_and_Diu_s:\n",
        "     if(i==\"Airport Quarantine\" or i==\"Unknown\" or i==\"Other State\" or i==\"Foreign Evacuees\"or i==\"Other Region\" or i==\"CAPF Personnel\"or i==\"Railway Quarantine\"):\n",
        "      Dadra_and_Nagar_Haveli_and_Daman_and_Diu_s.remove(i)\n",
        "print(Dadra_and_Nagar_Haveli_and_Daman_and_Diu_s)\n",
        "lat_Dadra_and_Nagar_Haveli_and_Daman_and_Diu_s=[]\n",
        "lon_Dadra_and_Nagar_Haveli_and_Daman_and_Diu_s=[]\n",
        "for i in Dadra_and_Nagar_Haveli_and_Daman_and_Diu_s:\n",
        "    n=nom.geocode(i)\n",
        "    if n is not None:\n",
        "      lat_Dadra_and_Nagar_Haveli_and_Daman_and_Diu_s.append(n.latitude) \n",
        "      lon_Dadra_and_Nagar_Haveli_and_Daman_and_Diu_s.append(n.longitude)\n",
        "      print(\"name-\",n,\"latitude\",n.latitude,\"lon\",n.longitude) \n",
        "    else :\n",
        "      lat_Dadra_and_Nagar_Haveli_and_Daman_and_Diu_s.append(0) \n",
        "      lon_Dadra_and_Nagar_Haveli_and_Daman_and_Diu_s.append(0)"
      ],
      "execution_count": null,
      "outputs": []
    },
    {
      "cell_type": "code",
      "metadata": {
        "id": "QSoY5ZfmwxkT",
        "colab_type": "code",
        "colab": {}
      },
      "source": [
        "for i in Goa_s:\n",
        "     if(i==\"Airport Quarantine\" or i==\"Unknown\" or i==\"Other State\" or i==\"Foreign Evacuees\"or i==\"Other Region\" or i==\"CAPF Personnel\"or i==\"Railway Quarantine\"):\n",
        "      Goa_s.remove(i)\n",
        "print(Goa_s)\n",
        "lat_Goa_s=[]\n",
        "lon_Goa_s=[]\n",
        "for i in Goa_s:\n",
        "    n=nom.geocode(i)\n",
        "    if n is not None:\n",
        "      lat_Goa_s.append(n.latitude) \n",
        "      lon_Goa_s.append(n.longitude)\n",
        "      print(\"name-\",n,\"latitude\",n.latitude,\"lon\",n.longitude)     \n",
        "    else :\n",
        "      lat_Goa_s.append(0) \n",
        "      lon_Goa_s.append(0) "
      ],
      "execution_count": null,
      "outputs": []
    },
    {
      "cell_type": "code",
      "metadata": {
        "id": "YuDtxiTdxLZg",
        "colab_type": "code",
        "colab": {}
      },
      "source": [
        "for i in Gujarat_s:\n",
        "     if(i==\"Airport Quarantine\" or i==\"Unknown\" or i==\"Other State\" or i==\"Foreign Evacuees\"or i==\"Other Region\" or i==\"CAPF Personnel\"or i==\"Railway Quarantine\"):\n",
        "      Gujarat_s.remove(i)\n",
        "print(Gujarat_s)\n",
        "lat_Gujarat_s=[]\n",
        "lon_Gujarat_s=[]\n",
        "for i in Gujarat_s:\n",
        "    n=nom.geocode(i)\n",
        "    if n is not None:\n",
        "      lat_Gujarat_s.append(n.latitude) \n",
        "      lon_Gujarat_s.append(n.longitude)\n",
        "      print(\"name-\",n,\"latitude\",n.latitude,\"lon\",n.longitude)   \n",
        "    else :\n",
        "      lat_Gujarat_s.append(0) \n",
        "      lon_Gujarat_s.append(0)   "
      ],
      "execution_count": null,
      "outputs": []
    },
    {
      "cell_type": "code",
      "metadata": {
        "id": "2Wrzn8Oo0apM",
        "colab_type": "code",
        "colab": {}
      },
      "source": [
        "for i in Himachal_Pradesh_s:\n",
        "     if(i==\"Airport Quarantine\" or i==\"Unknown\" or i==\"Other State\" or i==\"Foreign Evacuees\"or i==\"Other Region\" or i==\"CAPF Personnel\"or i==\"Railway Quarantine\"):\n",
        "      Himachal_Pradesh_s.remove(i)\n",
        "print(Himachal_Pradesh_s)\n",
        "lat_Himachal_Pradesh_s=[]\n",
        "lon_Himachal_Pradesh_s=[]\n",
        "for i in Himachal_Pradesh_s:\n",
        "    n=nom.geocode(i)\n",
        "    if n is not None:\n",
        "      lat_Himachal_Pradesh_s.append(n.latitude) \n",
        "      lon_Himachal_Pradesh_s.append(n.longitude)\n",
        "      print(\"name-\",n,\"latitude\",n.latitude,\"lon\",n.longitude) \n",
        "    else :\n",
        "      lat_Himachal_Pradesh_s.append(0) \n",
        "      lon_Himachal_Pradesh_s.append(0)  \n",
        "   "
      ],
      "execution_count": null,
      "outputs": []
    },
    {
      "cell_type": "code",
      "metadata": {
        "id": "jb_vHshe4e9T",
        "colab_type": "code",
        "colab": {}
      },
      "source": [
        "for i in Haryana_s:\n",
        "     if(i==\"Airport Quarantine\" or i==\"Unknown\" or i==\"Other State\" or i==\"Foreign Evacuees\"or i==\"Other Region\" or i==\"CAPF Personnel\"or i==\"Railway Quarantine\"):\n",
        "      Haryana_s.remove(i)\n",
        "print(Haryana_s)\n",
        "lat_Haryana_s=[]\n",
        "lon_Haryana_s=[]\n",
        "for i in Haryana_s:\n",
        "    n=nom.geocode(i)\n",
        "    if n is not None:\n",
        "      lat_Haryana_s.append(n.latitude) \n",
        "      lon_Haryana_s.append(n.longitude)\n",
        "      print(\"name-\",n,\"latitude\",n.latitude,\"lon\",n.longitude)    \n",
        "    else :\n",
        "      lat_Haryana_s.append(0) \n",
        "      lon_Haryana_s.append(0)  "
      ],
      "execution_count": null,
      "outputs": []
    },
    {
      "cell_type": "code",
      "metadata": {
        "id": "2BrR8oCz44lV",
        "colab_type": "code",
        "colab": {}
      },
      "source": [
        "for i in Jharkhand_s:\n",
        "     if(i==\"Airport Quarantine\" or i==\"Unknown\" or i==\"Other State\" or i==\"Foreign Evacuees\"or i==\"Other Region\" or i==\"CAPF Personnel\"or i==\"Railway Quarantine\"):\n",
        "      Jharkhand_s.remove(i)\n",
        "print(Jharkhand_s)\n",
        "lat_Jharkhand_s=[]\n",
        "lon_Jharkhand_s=[]\n",
        "for i in Jharkhand_s:\n",
        "    n=nom.geocode(i)\n",
        "    if n is not None:\n",
        "      lat_Jharkhand_s.append(n.latitude) \n",
        "      lon_Jharkhand_s.append(n.longitude)\n",
        "      print(\"name-\",n,\"latitude\",n.latitude,\"lon\",n.longitude)   \n",
        "    else :\n",
        "      lat_Jharkhand_s.append(0) \n",
        "      lon_Jharkhand_s.append(0)   \n"
      ],
      "execution_count": null,
      "outputs": []
    },
    {
      "cell_type": "code",
      "metadata": {
        "id": "mm1ahDbN5Ge8",
        "colab_type": "code",
        "colab": {}
      },
      "source": [
        "for i in Jammu_and_Kashmir_s:\n",
        "     if(i==\"Airport Quarantine\" or i==\"Unknown\" or i==\"Other State\" or i==\"Foreign Evacuees\"or i==\"Other Region\" or i==\"CAPF Personnel\"or i==\"Railway Quarantine\"):\n",
        "      Jammu_and_Kashmir_s.remove(i)\n",
        "print(Jammu_and_Kashmir_s)\n",
        "lat_Jammu_and_Kashmir_s=[]\n",
        "lon_Jammu_and_Kashmir_s=[]\n",
        "for i in Jammu_and_Kashmir_s:\n",
        "    n=nom.geocode(i)\n",
        "    if n is not None:\n",
        "      lat_Jammu_and_Kashmir_s.append(n.latitude) \n",
        "      lon_Jammu_and_Kashmir_s.append(n.longitude)\n",
        "      print(\"name-\",n,\"latitude\",n.latitude,\"lon\",n.longitude)     \n",
        "    else :\n",
        "      lat_Jammu_and_Kashmir_s.append(0) \n",
        "      lon_Jammu_and_Kashmir_s.append(0) "
      ],
      "execution_count": null,
      "outputs": []
    },
    {
      "cell_type": "code",
      "metadata": {
        "id": "MrISD1Yb5raL",
        "colab_type": "code",
        "colab": {}
      },
      "source": [
        "for i in Karnataka_s:\n",
        "     if(i==\"Airport Quarantine\" or i==\"Unknown\" or i==\"Other State\" or i==\"Foreign Evacuees\"or i==\"Other Region\" or i==\"CAPF Personnel\"or i==\"Railway Quarantine\"):\n",
        "      Karnataka_s.remove(i)\n",
        "print(Karnataka_s)\n",
        "lat_Karnataka_s=[]\n",
        "lon_Karnataka_s=[]\n",
        "for i in Karnataka_s:\n",
        "    n=nom.geocode(i)\n",
        "    if n is not None:\n",
        "      lat_Karnataka_s.append(n.latitude) \n",
        "      lon_Karnataka_s.append(n.longitude)\n",
        "      print(\"name-\",n,\"latitude\",n.latitude,\"lon\",n.longitude)      \n",
        "    else :\n",
        "      lat_Karnataka_s.append(0) \n",
        "      lon_Karnataka_s.append(0)\n",
        "\n"
      ],
      "execution_count": null,
      "outputs": []
    },
    {
      "cell_type": "code",
      "metadata": {
        "id": "5mqccqdM58DO",
        "colab_type": "code",
        "colab": {}
      },
      "source": [
        "for i in Kerala_s:\n",
        "     if(i==\"Airport Quarantine\" or i==\"Unknown\" or i==\"Other State\" or i==\"Foreign Evacuees\"or i==\"Other Region\" or i==\"CAPF Personnel\"or i==\"Railway Quarantine\"):\n",
        "      Kerala_s.remove(i)\n",
        "print(Kerala_s)\n",
        "lat_Kerala_s=[]\n",
        "lon_Kerala_s=[]\n",
        "for i in Kerala_s:\n",
        "    n=nom.geocode(i)\n",
        "    if n is not None:\n",
        "      lat_Kerala_s.append(n.latitude) \n",
        "      lon_Kerala_s.append(n.longitude)\n",
        "      print(\"name-\",n,\"latitude\",n.latitude,\"lon\",n.longitude)   \n",
        "    else :\n",
        "      lat_Kerala_s.append(0) \n",
        "      lon_Kerala_s.append(0)   "
      ],
      "execution_count": null,
      "outputs": []
    },
    {
      "cell_type": "code",
      "metadata": {
        "id": "F4S4yTrRdPdI",
        "colab_type": "code",
        "colab": {}
      },
      "source": [
        "for i in Nagaland_s:\n",
        "     if(i==\"Airport Quarantine\" or i==\"Unknown\" or i==\"Other State\" or i==\"Foreign Evacuees\"or i==\"Other Region\" or i==\"CAPF Personnel\"or i==\"Railway Quarantine\"):\n",
        "      Nagaland_s.remove(i)\n",
        "print(Kerala_s)\n",
        "lat_Nagaland_s=[]\n",
        "lon_Nagaland_s=[]\n",
        "for i in Nagaland_s:\n",
        "    n=nom.geocode(i)\n",
        "    if n is not None:\n",
        "      lat_Nagaland_s.append(n.latitude) \n",
        "      lon_Nagaland_s.append(n.longitude)\n",
        "      print(\"name-\",n,\"latitude\",n.latitude,\"lon\",n.longitude)   \n",
        "    else :\n",
        "      lat_Nagaland_s.append(0) \n",
        "      lon_Nagaland_s.append(0) "
      ],
      "execution_count": null,
      "outputs": []
    },
    {
      "cell_type": "code",
      "metadata": {
        "id": "Hxmt27GL6Kwv",
        "colab_type": "code",
        "colab": {}
      },
      "source": [
        "for i in Ladakh_s:\n",
        "     if(i==\"Airport Quarantine\" or i==\"Unknown\" or i==\"Other State\" or i==\"Foreign Evacuees\"or i==\"Other Region\" or i==\"CAPF Personnel\"or i==\"Railway Quarantine\"):\n",
        "      Ladakh_s.remove(i)\n",
        "print(Ladakh_s)\n",
        "lat_Ladakh_s=[]\n",
        "lon_Ladakh_s=[]\n",
        "for i in Ladakh_s:\n",
        "    n=nom.geocode(i)\n",
        "    if n is not None:\n",
        "      lat_Ladakh_s.append(n.latitude) \n",
        "      lon_Ladakh_s.append(n.longitude)\n",
        "      print(\"name-\",n,\"latitude\",n.latitude,\"lon\",n.longitude)    \n",
        "    else :\n",
        "      lat_Ladakh_s.append(0) \n",
        "      lon_Ladakh_s.append(0)  "
      ],
      "execution_count": null,
      "outputs": []
    },
    {
      "cell_type": "code",
      "metadata": {
        "id": "kDqo9QTo6k8U",
        "colab_type": "code",
        "colab": {}
      },
      "source": [
        "for i in Lakshadweep_s:\n",
        "     if(i==\"Airport Quarantine\" or i==\"Unknown\" or i==\"Other State\" or i==\"Foreign Evacuees\"or i==\"Other Region\" or i==\"CAPF Personnel\"or i==\"Railway Quarantine\"):\n",
        "      Lakshadweep_s.remove(i)\n",
        "print(Lakshadweep_s)\n",
        "lat_Lakshadweep_s=[]\n",
        "lon_Lakshadweep_s=[]\n",
        "for i in Lakshadweep_s:\n",
        "    n=nom.geocode(i)\n",
        "    if n is not None:\n",
        "      lat_Lakshadweep_s.append(n.latitude) \n",
        "      lon_Lakshadweep_s.append(n.longitude)\n",
        "      print(\"name-\",n,\"latitude\",n.latitude,\"lon\",n.longitude)   \n",
        "    else :\n",
        "      lat_Lakshadweep_s.append(0) \n",
        "      lon_Lakshadweep_s.append(0)   "
      ],
      "execution_count": null,
      "outputs": []
    },
    {
      "cell_type": "code",
      "metadata": {
        "id": "jw9sarfT6m15",
        "colab_type": "code",
        "colab": {}
      },
      "source": [
        "for i in Maharashtra_s:\n",
        "     if(i==\"Airport Quarantine\" or i==\"Unknown\" or i==\"Other State\" or i==\"Foreign Evacuees\"or i==\"Other Region\" or i==\"CAPF Personnel\"or i==\"Railway Quarantine\"):\n",
        "      Maharashtra_s.remove(i)\n",
        "print(Maharashtra_s)\n",
        "lat_Maharashtra_s=[]\n",
        "lon_Maharashtra_s=[]\n",
        "for i in Maharashtra_s:\n",
        "    n=nom.geocode(i)\n",
        "    if n is not None:\n",
        "      lat_Maharashtra_s.append(n.latitude) \n",
        "      lon_Maharashtra_s.append(n.longitude)\n",
        "      print(\"name-\",n,\"latitude\",n.latitude,\"lon\",n.longitude)     \n",
        "    else :\n",
        "      lat_Maharashtra_s.append(0) \n",
        "      lon_Maharashtra_s.append(0) \n"
      ],
      "execution_count": null,
      "outputs": []
    },
    {
      "cell_type": "code",
      "metadata": {
        "id": "onxOAH-163qO",
        "colab_type": "code",
        "colab": {}
      },
      "source": [
        "for i in Meghalaya_s:\n",
        "     if(i==\"Airport Quarantine\" or i==\"Unknown\" or i==\"Other State\" or i==\"Foreign Evacuees\"or i==\"Other Region\" or i==\"CAPF Personnel\"or i==\"Railway Quarantine\"):\n",
        "      Meghalaya_s.remove(i)\n",
        "print(Meghalaya_s)\n",
        "lat_Meghalaya_s=[]\n",
        "lon_Meghalaya_s=[]\n",
        "for i in Meghalaya_s:\n",
        "    n=nom.geocode(i)\n",
        "    if n is not None:\n",
        "      lat_Meghalaya_s.append(n.latitude) \n",
        "      lon_Meghalaya_s.append(n.longitude)\n",
        "      print(\"name-\",n,\"latitude\",n.latitude,\"lon\",n.longitude)     \n",
        "    else :\n",
        "      lat_Meghalaya_s.append(0) \n",
        "      lon_Meghalaya_s.append(0) \n"
      ],
      "execution_count": null,
      "outputs": []
    },
    {
      "cell_type": "code",
      "metadata": {
        "id": "labXr9607Csy",
        "colab_type": "code",
        "colab": {}
      },
      "source": [
        "for i in Manipur_s:\n",
        "     if(i==\"Airport Quarantine\" or i==\"Unknown\" or i==\"Other State\" or i==\"Foreign Evacuees\"or i==\"Other Region\" or i==\"CAPF Personnel\"or i==\"Railway Quarantine\"):\n",
        "      Manipur_s.remove(i)\n",
        "print(Manipur_s)\n",
        "lat_Manipur_s=[]\n",
        "lon_Manipur_s=[]\n",
        "for i in Manipur_s:\n",
        "    n=nom.geocode(i)\n",
        "    if n is not None:\n",
        "      lat_Manipur_s.append(n.latitude) \n",
        "      lon_Manipur_s.append(n.longitude)\n",
        "      print(\"name-\",n,\"latitude\",n.latitude,\"lon\",n.longitude) \n",
        "    else :\n",
        "      lat_Manipur_s.append(0) \n",
        "      lon_Manipur_s.append(0)     \n"
      ],
      "execution_count": null,
      "outputs": []
    },
    {
      "cell_type": "code",
      "metadata": {
        "id": "3OidLXUu7OoH",
        "colab_type": "code",
        "colab": {}
      },
      "source": [
        "for i in Madhya_Pradesh_s:\n",
        "     if(i==\"Airport Quarantine\" or i==\"Unknown\" or i==\"Other State\" or i==\"Foreign Evacuees\"or i==\"Other Region\" or i==\"CAPF Personnel\"or i==\"Railway Quarantine\"):\n",
        "      Madhya_Pradesh_s.remove(i)\n",
        "print(Madhya_Pradesh_s)\n",
        "lat_Madhya_Pradesh_s=[]\n",
        "lon_Madhya_Pradesh_s=[]\n",
        "for i in Madhya_Pradesh_s:\n",
        "    n=nom.geocode(i)\n",
        "    if n is not None:\n",
        "      lat_Madhya_Pradesh_s.append(n.latitude) \n",
        "      lon_Madhya_Pradesh_s.append(n.longitude)\n",
        "      print(\"name-\",n,\"latitude\",n.latitude,\"lon\",n.longitude)     \n",
        "    else :\n",
        "      lat_Madhya_Pradesh_s.append(0) \n",
        "      lon_Madhya_Pradesh_s.append(0) "
      ],
      "execution_count": null,
      "outputs": []
    },
    {
      "cell_type": "code",
      "metadata": {
        "id": "Mat4g7FMAWPF",
        "colab_type": "code",
        "colab": {}
      },
      "source": [
        "for i in Mizoram_s:\n",
        "     if(i==\"Airport Quarantine\" or i==\"Unknown\" or i==\"Other State\" or i==\"Foreign Evacuees\"or i==\"Other Region\" or i==\"CAPF Personnel\"or i==\"Railway Quarantine\"):\n",
        "      Mizoram_s.remove(i)\n",
        "print(Mizoram_s)\n",
        "lat_Mizoram_s=[]\n",
        "lon_Mizoram_s=[]\n",
        "for i in Mizoram_s:\n",
        "    n=nom.geocode(i)\n",
        "    if n is not None:\n",
        "      lat_Mizoram_s.append(n.latitude) \n",
        "      lon_Mizoram_s.append(n.longitude)\n",
        "      print(\"name-\",n,\"latitude\",n.latitude,\"lon\",n.longitude)     \n",
        "    else :\n",
        "      lat_Mizoram_s.append(0) \n",
        "      lon_Mizoram_s.append(0) "
      ],
      "execution_count": null,
      "outputs": []
    },
    {
      "cell_type": "code",
      "metadata": {
        "id": "mPiIEnzHA8PR",
        "colab_type": "code",
        "colab": {}
      },
      "source": [
        "for i in Odisha_s:\n",
        "     if(i==\"Airport Quarantine\" or i==\"Unknown\" or i==\"Other State\" or i==\"Foreign Evacuees\"or i==\"Other Region\" or i==\"CAPF Personnel\"or i==\"Railway Quarantine\" or i==\"Others\"):\n",
        "      Odisha_s.remove(i)\n",
        "#print(Odisha_s)\n",
        "lat_Odisha_s=[]\n",
        "lon_Odisha_s=[]\n",
        "for i in Odisha_s:\n",
        "    n=nom.geocode(i)\n",
        "    if n is not None:\n",
        "      lat_Odisha_s.append(n.latitude) \n",
        "      lon_Odisha_s.append(n.longitude)\n",
        "      #print(\"name-\",n,\"latitude\",n.latitude,\"lon\",n.longitude)     \n",
        "    else :\n",
        "      lat_Odisha_s.append(0) \n",
        "      lon_Odisha_s.append(0) \n",
        "\n",
        "print(len(Odisha_s))\n",
        "print(len(lat_Odisha_s))"
      ],
      "execution_count": null,
      "outputs": []
    },
    {
      "cell_type": "code",
      "metadata": {
        "id": "lLeex9CxBShH",
        "colab_type": "code",
        "colab": {}
      },
      "source": [
        "for i in Punjab_s:\n",
        "     if(i==\"Airport Quarantine\" or i==\"Unknown\" or i==\"Other State\" or i==\"Foreign Evacuees\"or i==\"Other Region\" or i==\"CAPF Personnel\"or i==\"Railway Quarantine\"):\n",
        "      Punjab_s.remove(i)\n",
        "print(Punjab_s)\n",
        "lat_Punjab_s=[]\n",
        "lon_Punjab_s=[]\n",
        "for i in Punjab_s:\n",
        "    n=nom.geocode(i)\n",
        "    if n is not None:\n",
        "      lat_Punjab_s.append(n.latitude) \n",
        "      lon_Punjab_s.append(n.longitude)\n",
        "      print(\"name-\",n,\"latitude\",n.latitude,\"lon\",n.longitude) \n",
        "    else :\n",
        "      lat_Punjab_s.append(0) \n",
        "      lon_Punjab_s.append(0)     "
      ],
      "execution_count": null,
      "outputs": []
    },
    {
      "cell_type": "code",
      "metadata": {
        "id": "9MphJRrTBhJp",
        "colab_type": "code",
        "colab": {}
      },
      "source": [
        "for i in Puducherry_s:\n",
        "     if(i==\"Airport Quarantine\" or i==\"Unknown\" or i==\"Other State\" or i==\"Foreign Evacuees\"or i==\"Other Region\" or i==\"CAPF Personnel\"or i==\"Railway Quarantine\"):\n",
        "      Puducherry_s.remove(i)\n",
        "print(Puducherry_s)\n",
        "lat_Puducherry_s=[]\n",
        "lon_Puducherry_s=[]\n",
        "for i in Puducherry_s:\n",
        "    n=nom.geocode(i)\n",
        "    if n is not None:\n",
        "      lat_Puducherry_s.append(n.latitude) \n",
        "      lon_Puducherry_s.append(n.longitude)\n",
        "      print(\"name-\",n,\"latitude\",n.latitude,\"lon\",n.longitude)    \n",
        "    else :\n",
        "      lat_Puducherry_s.append(0) \n",
        "      lon_Puducherry_s.append(0)  "
      ],
      "execution_count": null,
      "outputs": []
    },
    {
      "cell_type": "code",
      "metadata": {
        "id": "EZToa_8CB3O-",
        "colab_type": "code",
        "colab": {}
      },
      "source": [
        "for i in Rajasthan_s:\n",
        "     if(i==\"Airport Quarantine\" or i==\"Unknown\" or i==\"Other State\" or i==\"Foreign Evacuees\"or i==\"Other Region\" or i==\"CAPF Personnel\"or i==\"Railway Quarantine\"):\n",
        "      Rajasthan_s.remove(i)\n",
        "print(Rajasthan_s)\n",
        "lat_Rajasthan_s=[]\n",
        "lon_Rajasthan_s=[]\n",
        "for i in Rajasthan_s:\n",
        "    n=nom.geocode(i)\n",
        "    if n is not None:\n",
        "      lat_Rajasthan_s.append(n.latitude) \n",
        "      lon_Rajasthan_s.append(n.longitude)\n",
        "      print(\"name-\",n,\"latitude\",n.latitude,\"lon\",n.longitude)      \n",
        "    else :\n",
        "      lat_Rajasthan_s.append(0) \n",
        "      lon_Rajasthan_s.append(0)"
      ],
      "execution_count": null,
      "outputs": []
    },
    {
      "cell_type": "code",
      "metadata": {
        "id": "4-155Tv8CJ7W",
        "colab_type": "code",
        "colab": {}
      },
      "source": [
        "for i in Sikkim_s:\n",
        "     if(i==\"Airport Quarantine\" or i==\"Unknown\" or i==\"Other State\" or i==\"Foreign Evacuees\"or i==\"Other Region\" or i==\"CAPF Personnel\"or i==\"Railway Quarantine\"):\n",
        "      Sikkim_s.remove(i)\n",
        "print(Sikkim_s)\n",
        "lat_Sikkim_s=[]\n",
        "lon_Sikkim_s=[]\n",
        "for i in Sikkim_s:\n",
        "    n=nom.geocode(i)\n",
        "    if n is not None:\n",
        "      lat_Sikkim_s.append(n.latitude) \n",
        "      lon_Sikkim_s.append(n.longitude)\n",
        "      print(\"name-\",n,\"latitude\",n.latitude,\"lon\",n.longitude) \n",
        "    else :\n",
        "      lat_Sikkim_s.append(0) \n",
        "      lon_Sikkim_s.append(0)     "
      ],
      "execution_count": null,
      "outputs": []
    },
    {
      "cell_type": "code",
      "metadata": {
        "id": "AykOejCaCVV1",
        "colab_type": "code",
        "colab": {}
      },
      "source": [
        "for i in Telangana_s:\n",
        "     if(i==\"Airport Quarantine\" or i==\"Unknown\" or i==\"Other State\" or i==\"Foreign Evacuees\"or i==\"Other Region\" or i==\"CAPF Personnel\"or i==\"Railway Quarantine\"):\n",
        "      Telangana_s.remove(i)\n",
        "for i in Telangana_s:    \n",
        "     if(i==\"Other State\"):\n",
        "      Telangana_s.remove(i)\n",
        "print(Telangana_s)\n",
        "lat_Telangana_s=[]\n",
        "lon_Telangana_s=[]\n",
        "for i in Telangana_s:\n",
        "    n=nom.geocode(i)\n",
        "    if n is not None:\n",
        "      lat_Telangana_s.append(n.latitude) \n",
        "      lon_Telangana_s.append(n.longitude)\n",
        "      print(\"name-\",n,\"latitude\",n.latitude,\"lon\",n.longitude)    \n",
        "    else :\n",
        "      lat_Telangana_s.append(0) \n",
        "      lon_Telangana_s.append(0)  "
      ],
      "execution_count": null,
      "outputs": []
    },
    {
      "cell_type": "code",
      "metadata": {
        "id": "8tg8Y6mRCiwp",
        "colab_type": "code",
        "colab": {}
      },
      "source": [
        "for i in Tamil_Nadu_s:\n",
        "     if(i==\"Airport Quarantine\" or i==\"Unknown\" or i==\"Other State\" or i==\"Foreign Evacuees\"or i==\"Other Region\" or i==\"CAPF Personnel\"or i==\"Railway Quarantine\"):\n",
        "      Tamil_Nadu_s.remove(i)\n",
        "for i in Tamil_Nadu_s:\n",
        "     if(i==\"Airport Quarantine\"):\n",
        "      Tamil_Nadu_s.remove(i)\n",
        "print(Tamil_Nadu_s)\n",
        "lat_Tamil_Nadu_s=[]\n",
        "lon_Tamil_Nadu_s=[]\n",
        "for i in Tamil_Nadu_s:\n",
        "    n=nom.geocode(i)\n",
        "    if n is not None:\n",
        "      lat_Tamil_Nadu_s.append(n.latitude) \n",
        "      lon_Tamil_Nadu_s.append(n.longitude)\n",
        "      #print(\"name-\",n,\"latitude\",n.latitude,\"lon\",n.longitude)   \n",
        "    else :\n",
        "      lat_Tamil_Nadu_s.append(0) \n",
        "      lon_Tamil_Nadu_s.append(0)   \n",
        "print(lat_Tamil_Nadu_s)        "
      ],
      "execution_count": null,
      "outputs": []
    },
    {
      "cell_type": "code",
      "metadata": {
        "id": "6iKY9X2lC80R",
        "colab_type": "code",
        "colab": {}
      },
      "source": [
        "for i in Tripura_s:\n",
        "     if(i==\"Airport Quarantine\" or i==\"Unknown\" or i==\"Other State\" or i==\"Foreign Evacuees\"or i==\"Other Region\" or i==\"CAPF Personnel\"or i==\"Railway Quarantine\"):\n",
        "      Tripura_s.remove(i)\n",
        "print(Tripura_s)\n",
        "lat_Tripura_s=[]\n",
        "lon_Tripura_s=[]\n",
        "for i in Tripura_s:\n",
        "    n=nom.geocode(i)\n",
        "    if n is not None:\n",
        "      lat_Tripura_s.append(n.latitude) \n",
        "      lon_Tripura_s.append(n.longitude)\n",
        "      print(\"name-\",n,\"latitude\",n.latitude,\"lon\",n.longitude)\n",
        "    else :\n",
        "      lat_Tripura_s.append(0) \n",
        "      lon_Tripura_s.append(0)      "
      ],
      "execution_count": null,
      "outputs": []
    },
    {
      "cell_type": "code",
      "metadata": {
        "id": "MjxyxpunDQbi",
        "colab_type": "code",
        "colab": {}
      },
      "source": [
        "for i in Uttar_Pradesh_s:\n",
        "     if(i==\"Airport Quarantine\" or i==\"Unknown\" or i==\"Other State\" or i==\"Foreign Evacuees\"or i==\"Other Region\" or i==\"CAPF Personnel\"or i==\"Railway Quarantine\"):\n",
        "      Uttar_Pradesh_s.remove(i)\n",
        "print(Uttar_Pradesh_s)\n",
        "lat_Uttar_Pradesh_s=[]\n",
        "lon_Uttar_Pradesh_s=[]\n",
        "for i in Uttar_Pradesh_s:\n",
        "    n=nom.geocode(i)\n",
        "    if n is not None:\n",
        "      lat_Uttar_Pradesh_s.append(n.latitude) \n",
        "      lon_Uttar_Pradesh_s.append(n.longitude)\n",
        "      print(\"name-\",n,\"latitude\",n.latitude,\"lon\",n.longitude)   \n",
        "    else :\n",
        "      lat_Uttar_Pradesh_s.append(0) \n",
        "      lon_Uttar_Pradesh_s.append(0)   "
      ],
      "execution_count": null,
      "outputs": []
    },
    {
      "cell_type": "code",
      "metadata": {
        "id": "XusIrXvKDdTt",
        "colab_type": "code",
        "colab": {}
      },
      "source": [
        "for i in Uttarakhand_s:\n",
        "     if(i==\"Airport Quarantine\" or i==\"Unknown\" or i==\"Other State\" or i==\"Foreign Evacuees\"or i==\"Other Region\" or i==\"CAPF Personnel\"or i==\"Railway Quarantine\"):\n",
        "      Uttarakhand_s.remove(i)\n",
        "print(Uttarakhand_s)\n",
        "lat_Uttarakhand_s=[]\n",
        "lon_Uttarakhand_s=[]\n",
        "for i in Uttarakhand_s:\n",
        "    n=nom.geocode(i)\n",
        "    if n is not None:\n",
        "      lat_Uttarakhand_s.append(n.latitude) \n",
        "      lon_Uttarakhand_s.append(n.longitude)\n",
        "      print(\"name-\",n,\"latitude\",n.latitude,\"lon\",n.longitude) \n",
        "    else :\n",
        "      lat_Uttarakhand_s.append(0) \n",
        "      lon_Uttarakhand_s.append(0)     "
      ],
      "execution_count": null,
      "outputs": []
    },
    {
      "cell_type": "code",
      "metadata": {
        "id": "YtcVsMW0Dulx",
        "colab_type": "code",
        "colab": {}
      },
      "source": [
        "for i in West_Bengal_s:\n",
        "     if(i==\"Airport Quarantine\" or i==\"Unknown\" or i==\"Other State\" or i==\"Foreign Evacuees\"or i==\"Other Region\" or i==\"CAPF Personnel\"or i==\"Railway Quarantine\"):\n",
        "      West_Bengal_s.remove(i)\n",
        "print(West_Bengal_s)\n",
        "lat_West_Bengal_s=[]\n",
        "lon_West_Bengal_s=[]\n",
        "for i in West_Bengal_s:\n",
        "    n=nom.geocode(i)\n",
        "    if n is not None:\n",
        "      lat_West_Bengal_s.append(n.latitude) \n",
        "      lon_West_Bengal_s.append(n.longitude)\n",
        "      print(\"name-\",n,\"latitude\",n.latitude,\"lon\",n.longitude)      \n",
        "    else :\n",
        "      lat_West_Bengal_s.append(0) \n",
        "      lon_West_Bengal_s.append(0)"
      ],
      "execution_count": null,
      "outputs": []
    },
    {
      "cell_type": "code",
      "metadata": {
        "id": "DvuTFertKG2B",
        "colab_type": "code",
        "colab": {}
      },
      "source": [
        "for i in Andaman_and_Nicobar_Islands_s:\n",
        "     if(i==\"Airport Quarantine\" or i==\"Unknown\" or i==\"Other State\" or i==\"Foreign Evacuees\"or i==\"Other Region\" or i==\"CAPF Personnel\"or i==\"Railway Quarantine \" or i==\"Nicobars\"):\n",
        "      Andaman_and_Nicobar_Islands_s.remove(i)\n",
        "print(Andaman_and_Nicobar_Islands_s)\n",
        "lat_Andaman_and_Nicobar_Islands_s=[]\n",
        "lon_Andaman_and_Nicobar_Islands_s=[]\n",
        "for i in Andaman_and_Nicobar_Islands_s:\n",
        "    n=nom.geocode(i)\n",
        "    if n is not None:\n",
        "      lat_Andaman_and_Nicobar_Islands_s.append(n.latitude) \n",
        "      lon_Andaman_and_Nicobar_Islands_s.append(n.longitude)\n",
        "      print(\"name-\",n,\"latitude\",n.latitude,\"lon\",n.longitude)    \n",
        "    else :\n",
        "      lat_Andaman_and_Nicobar_Islands_s.append(0) \n",
        "      lon_Andaman_and_Nicobar_Islands_s.append(0)  "
      ],
      "execution_count": null,
      "outputs": []
    },
    {
      "cell_type": "code",
      "metadata": {
        "id": "nb2yRIERmSW6",
        "colab_type": "code",
        "colab": {}
      },
      "source": [
        " n=nom.geocode(\"chennai\")\n",
        "print(\"name-\",n,\"latitude\",n.latitude,\"lon\",n.longitude)    \n"
      ],
      "execution_count": null,
      "outputs": []
    },
    {
      "cell_type": "code",
      "metadata": {
        "id": "MjQONexfKVt6",
        "colab_type": "code",
        "colab": {}
      },
      "source": [
        "for i in Andhra_Pradesh_s:\n",
        "     if(i==\"Airport Quarantine\" or i==\"Unknown\" or i==\"Other State\" or i==\"Foreign Evacuees\"or i==\"Other Region\" or i==\"CAPF Personnel\"or i==\"Railway Quarantine\"):\n",
        "      Andhra_Pradesh_s.remove(i)\n",
        "print(Andhra_Pradesh_s)\n",
        "lat_Andhra_Pradesh_s=[]\n",
        "lon_Andhra_Pradesh_s=[]\n",
        "for i in Andhra_Pradesh_s:\n",
        "    n=nom.geocode(i)\n",
        "    if n is not None:\n",
        "      lat_Andhra_Pradesh_s.append(n.latitude) \n",
        "      lon_Andhra_Pradesh_s.append(n.longitude)\n",
        "      print(\"name-\",n,\"latitude\",n.latitude,\"lon\",n.longitude)    \n",
        "    else :\n",
        "      lat_Andhra_Pradesh_s.append(0) \n",
        "      lon_Andhra_Pradesh_s.append(0)  "
      ],
      "execution_count": null,
      "outputs": []
    },
    {
      "cell_type": "code",
      "metadata": {
        "id": "Q8Wl7W-YKoqP",
        "colab_type": "code",
        "colab": {}
      },
      "source": [
        "for i in Arunachal_Pradesh_s:\n",
        "     if(i==\"Airport Quarantine\" or i==\"Unknown\" or i==\"Other State\" or i==\"Foreign Evacuees\"or i==\"Other Region\" or i==\"CAPF Personnel\"or i==\"Railway Quarantine\"):\n",
        "      Arunachal_Pradesh_s.remove(i)\n",
        "print(Arunachal_Pradesh_s)\n",
        "lat_Arunachal_Pradesh_s=[]\n",
        "lon_Arunachal_Pradesh_s=[]\n",
        "for i in Arunachal_Pradesh_s:\n",
        "    n=nom.geocode(i)\n",
        "    if n is not None:\n",
        "      lat_Arunachal_Pradesh_s.append(n.latitude) \n",
        "      lon_Arunachal_Pradesh_s.append(n.longitude)\n",
        "      print(\"name-\",n,\"latitude\",n.latitude,\"lon\",n.longitude)      \n",
        "    else :\n",
        "      lat_Arunachal_Pradesh_s.append(0) \n",
        "      lon_Arunachal_Pradesh_s.append(0)"
      ],
      "execution_count": null,
      "outputs": []
    },
    {
      "cell_type": "markdown",
      "metadata": {
        "id": "-sa18exqYpBf",
        "colab_type": "text"
      },
      "source": [
        "   **  Maintain Order **"
      ]
    },
    {
      "cell_type": "code",
      "metadata": {
        "id": "isoXpAx-K_BN",
        "colab_type": "code",
        "colab": {}
      },
      "source": [
        "\n",
        "\"\"\"finallist=Arunachal_Pradesh_s+Andhra_Pradesh_s+Andaman_and_Nicobar_Islands_s+West_Bengal_s+Uttarakhand_s+Uttar_Pradesh_s+Tripura_s+Tamil_Nadu_s+Telangana_s+Sikkim_s+Rajasthan_s+Puducherry_s+Punjab_s+Odisha_s+Mizoram_s+Madhya_Pradesh_s+Manipur_s+Meghalaya_s+Maharashtra_s+Lakshadweep_s+Ladakh_s+Kerala_s+Karnataka_s+Jammu_and_Kashmir_s+Jharkhand_s+Haryana_s+Himachal_Pradesh_s+Gujarat_s+Goa_s+Dadra_and_Nagar_Haveli_and_Daman_and_Diu_s+Delhis+Chhattisgarhs+Chandigarhs+bihars+assam\"\"\""
      ],
      "execution_count": null,
      "outputs": []
    },
    {
      "cell_type": "code",
      "metadata": {
        "id": "BvPoJzBrPwcd",
        "colab_type": "code",
        "colab": {}
      },
      "source": [
        "finallist=[]\n",
        "finallist.append(assams)\n",
        "finallist.append(bihars)\n",
        "finallist.append(Chandigarhs)\n",
        "finallist.append(Chhattisgarhs)\n",
        "finallist.append(Delhis)\n",
        "finallist.append(Dadra_and_Nagar_Haveli_and_Daman_and_Diu_s)\n",
        "finallist.append(Goa_s)\n",
        "finallist.append(Gujarat_s)\n",
        "finallist.append(Himachal_Pradesh_s)\n",
        "finallist.append(Haryana_s)\n",
        "finallist.append(Jharkhand_s)\n",
        "finallist.append(Jammu_and_Kashmir_s)\n",
        "finallist.append(Karnataka_s)\n",
        "finallist.append(Kerala_s)\n",
        "finallist.append(Ladakh_s)\n",
        "finallist.append(Lakshadweep_s)\n",
        "finallist.append(Maharashtra_s)\n",
        "finallist.append(Meghalaya_s)\n",
        "finallist.append(Manipur_s)\n",
        "finallist.append(Madhya_Pradesh_s)\n",
        "finallist.append(Mizoram_s)\n",
        "finallist.append(Nagaland_s)\n",
        "finallist.append(Odisha_s)\n",
        "finallist.append(Punjab_s)\n",
        "finallist.append(Puducherry_s)\n",
        "finallist.append(Rajasthan_s)\n",
        "finallist.append(Sikkim_s)\n",
        "finallist.append(Telangana_s)\n",
        "finallist.append(Tamil_Nadu_s)\n",
        "finallist.append(Tripura_s)\n",
        "finallist.append(Uttar_Pradesh_s)\n",
        "finallist.append(Uttarakhand_s)\n",
        "finallist.append(West_Bengal_s)\n",
        "finallist.append(Andaman_and_Nicobar_Islands_s)\n",
        "finallist.append(Andhra_Pradesh_s)\n",
        "finallist.append(Arunachal_Pradesh_s)\n",
        "\n",
        "print((len(finallist)))"
      ],
      "execution_count": null,
      "outputs": []
    },
    {
      "cell_type": "code",
      "metadata": {
        "id": "NK_9glwlYXE1",
        "colab_type": "code",
        "colab": {}
      },
      "source": [
        "finallistlatitude=[]\n",
        "finallistlatitude.append(lat_assams)\n",
        "finallistlatitude.append(lat_bihars)\n",
        "finallistlatitude.append(lat_Chandigarhs)\n",
        "finallistlatitude.append(lat_Chhattisgarhs)\n",
        "finallistlatitude.append(lat_Delhis)\n",
        "finallistlatitude.append(lat_Dadra_and_Nagar_Haveli_and_Daman_and_Diu_s)\n",
        "finallistlatitude.append(lat_Goa_s)\n",
        "finallistlatitude.append(lat_Gujarat_s)\n",
        "finallistlatitude.append(lat_Himachal_Pradesh_s)\n",
        "finallistlatitude.append(lat_Haryana_s)\n",
        "finallistlatitude.append(lat_Jharkhand_s)\n",
        "finallistlatitude.append(lat_Jammu_and_Kashmir_s)\n",
        "finallistlatitude.append(lat_Karnataka_s)\n",
        "finallistlatitude.append(lat_Kerala_s)\n",
        "finallistlatitude.append(lat_Ladakh_s)\n",
        "finallistlatitude.append(lat_Lakshadweep_s)\n",
        "finallistlatitude.append(lat_Maharashtra_s)\n",
        "finallistlatitude.append(lat_Meghalaya_s)\n",
        "finallistlatitude.append(lat_Manipur_s)\n",
        "finallistlatitude.append(lat_Madhya_Pradesh_s)\n",
        "finallistlatitude.append(lat_Mizoram_s)\n",
        "finallistlatitude.append(lat_Nagaland_s)\n",
        "finallistlatitude.append(lat_Odisha_s)\n",
        "finallistlatitude.append(lat_Punjab_s)\n",
        "finallistlatitude.append(lat_Puducherry_s)\n",
        "finallistlatitude.append(lat_Rajasthan_s)\n",
        "finallistlatitude.append(lat_Sikkim_s)\n",
        "finallistlatitude.append(lat_Telangana_s)\n",
        "finallistlatitude.append(lat_Tamil_Nadu_s)\n",
        "finallistlatitude.append(lat_Tripura_s)\n",
        "finallistlatitude.append(lat_Uttar_Pradesh_s)\n",
        "finallistlatitude.append(lat_Uttarakhand_s)\n",
        "finallistlatitude.append(lat_West_Bengal_s)\n",
        "finallistlatitude.append(lat_Andaman_and_Nicobar_Islands_s)\n",
        "finallistlatitude.append(lat_Andhra_Pradesh_s)\n",
        "finallistlatitude.append(lat_Arunachal_Pradesh_s)\n",
        "\n",
        "print(((finallistlatitude)))\n",
        "\n",
        "\n"
      ],
      "execution_count": null,
      "outputs": []
    },
    {
      "cell_type": "code",
      "metadata": {
        "id": "LfZyZmBVhNqC",
        "colab_type": "code",
        "colab": {}
      },
      "source": [
        "finallistlongitude=[]\n",
        "finallistlongitude.append(lon_assams)\n",
        "finallistlongitude.append(lon_bihars)\n",
        "finallistlongitude.append(lon_Chandigarhs)\n",
        "finallistlongitude.append(lon_Chhattisgarhs)\n",
        "finallistlongitude.append(lon_Delhis)\n",
        "finallistlongitude.append(lon_Dadra_and_Nagar_Haveli_and_Daman_and_Diu_s)\n",
        "finallistlongitude.append(lon_Goa_s)\n",
        "finallistlongitude.append(lon_Gujarat_s)\n",
        "finallistlongitude.append(lon_Himachal_Pradesh_s)\n",
        "finallistlongitude.append(lon_Haryana_s)\n",
        "finallistlongitude.append(lon_Jharkhand_s)\n",
        "finallistlongitude.append(lon_Jammu_and_Kashmir_s)\n",
        "finallistlongitude.append(lon_Karnataka_s)\n",
        "finallistlongitude.append(lon_Kerala_s)\n",
        "finallistlongitude.append(lon_Ladakh_s)\n",
        "finallistlongitude.append(lon_Lakshadweep_s)\n",
        "finallistlongitude.append(lon_Maharashtra_s)\n",
        "finallistlongitude.append(lon_Meghalaya_s)\n",
        "finallistlongitude.append(lon_Manipur_s)\n",
        "finallistlongitude.append(lon_Madhya_Pradesh_s)\n",
        "finallistlongitude.append(lon_Mizoram_s)\n",
        "finallistlongitude.append(lon_Nagaland_s)\n",
        "finallistlongitude.append(lon_Odisha_s)\n",
        "finallistlongitude.append(lon_Punjab_s)\n",
        "finallistlongitude.append(lon_Puducherry_s)\n",
        "finallistlongitude.append(lon_Rajasthan_s)\n",
        "finallistlongitude.append(lon_Sikkim_s)\n",
        "finallistlongitude.append(lon_Telangana_s)\n",
        "finallistlongitude.append(lon_Tamil_Nadu_s)\n",
        "finallistlongitude.append(lon_Tripura_s)\n",
        "finallistlongitude.append(lon_Uttar_Pradesh_s)\n",
        "finallistlongitude.append(lon_Uttarakhand_s)\n",
        "finallistlongitude.append(lon_West_Bengal_s)\n",
        "finallistlongitude.append(lon_Andaman_and_Nicobar_Islands_s)\n",
        "finallistlongitude.append(lon_Andhra_Pradesh_s)\n",
        "finallistlongitude.append(lon_Arunachal_Pradesh_s)\n",
        "print((len(finallistlongitude)))"
      ],
      "execution_count": null,
      "outputs": []
    },
    {
      "cell_type": "code",
      "metadata": {
        "id": "fn579H86mP8Q",
        "colab_type": "code",
        "colab": {}
      },
      "source": [
        "from itertools import chain\n",
        "\n",
        "purefinallist=list(chain.from_iterable(finallist))\n",
        "print(len(purefinallist))\n",
        "purefinallistlatitude=list(chain.from_iterable(finallistlatitude))\n",
        "purefinallistlongitude=list(chain.from_iterable(finallistlongitude))\n",
        "print(len(purefinallistlatitude))\n",
        "print(len(purefinallistlongitude))"
      ],
      "execution_count": null,
      "outputs": []
    },
    {
      "cell_type": "markdown",
      "metadata": {
        "id": "_vDgZGA2V7I6",
        "colab_type": "text"
      },
      "source": [
        "**creating** dataframe"
      ]
    },
    {
      "cell_type": "code",
      "metadata": {
        "id": "3fNJWxxrWHDK",
        "colab_type": "code",
        "colab": {}
      },
      "source": [
        "d={\"District\":purefinallist,\"Latitude\":purefinallistlatitude,\"longitude\":purefinallistlongitude}\n",
        "print(d)\n"
      ],
      "execution_count": null,
      "outputs": []
    },
    {
      "cell_type": "code",
      "metadata": {
        "id": "J8W4K-9RLMAn",
        "colab_type": "code",
        "colab": {}
      },
      "source": [
        "d=df(d)\n",
        "print(d)"
      ],
      "execution_count": null,
      "outputs": []
    },
    {
      "cell_type": "code",
      "metadata": {
        "id": "Z-D0eT4_RaF8",
        "colab_type": "code",
        "colab": {}
      },
      "source": [
        "pureActive=[]\n",
        "pureConfirmed=[]\n",
        "puredeceased=[]\n",
        "purerecovered=[]"
      ],
      "execution_count": null,
      "outputs": []
    },
    {
      "cell_type": "code",
      "metadata": {
        "id": "rhGvHuq7dEPE",
        "colab_type": "code",
        "colab": {}
      },
      "source": [
        "pureActive=assamactive+biharactive+Chandigarhactive+Chhattisgarhactive+ Delhiactive+Dadra_and_Nagar_Haveli_and_Daman_and_Diu_active+Goa_active+ Gujarat_active+Himachal_Pradesh_active+Haryana_active+Jharkhand_active+Jammu_and_Kashmir_active+Karnataka_active+Kerala_active+Ladakh_active+Lakshadweep_active+Maharashtra_active+Meghalaya_active+Manipur_active+ Madhya_Pradesh_active+Mizoram_active+Nagaland_active+ Odisha_active+Punjab_active+Puducherry_active+Rajasthan_active+Sikkim_active+Telangana_active+Tamil_Nadu_active+Tripura_active+ Uttar_Pradesh_active+Uttarakhand_active+West_Bengal_active+Andaman_and_Nicobar_Islands_active+Andhra_Pradesh_active+Arunachal_Pradesh_active\n",
        "pureConfirmed=assamconfirmed+ biharconfirmed+Chandigarhconfirmed+Chhattisgarhconfirmed+Delhiconfirmed+Dadra_and_Nagar_Haveli_and_Daman_and_Diu_confirmed+Goa_confirmed+Gujarat_confirmed+Himachal_Pradesh_confirmed+Haryana_confirmed+Jharkhand_confirmed+Jammu_and_Kashmir_confirmed+Karnataka_confirmed+Kerala_confirmed+Ladakh_confirmed+Lakshadweep_confirmed+Maharashtra_confirmed+Meghalaya_confirmed+Manipur_confirmed+ Madhya_Pradesh_confirmed+Mizoram_confirmed+Nagaland_confirmed+Odisha_confirmed+Punjab_confirmed+Puducherry_confirmed+Rajasthan_confirmed+Sikkim_confirmed+Telangana_confirmed+Tamil_Nadu_confirmed+Tripura_confirmed+Uttar_Pradesh_confirmed+Uttarakhand_confirmed+West_Bengal_confirmed+Andaman_and_Nicobar_Islands_confirmed+Andhra_Pradesh_confirmed+Arunachal_Pradesh_confirmed\n",
        "puredeceased=assamdeceased+bihardeceased+Chandigarhdeceased+Chhattisgarhdeceased+Delhideceased+Dadra_and_Nagar_Haveli_and_Daman_and_Diu_deceased+Goa_deceased+Gujarat_deceased+Himachal_Pradesh_deceased+Haryana_deceased+Jharkhand_deceased+Jammu_and_Kashmir_deceased+Karnataka_deceased+Kerala_deceased+Ladakh_deceased+Lakshadweep_deceased+Maharashtra_deceased+Meghalaya_deceased+Manipur_deceased+Madhya_Pradesh_deceased+Mizoram_deceased+Nagaland_deceased+Odisha_deceased+Punjab_deceased+Puducherry_deceased+Rajasthan_deceased+Sikkim_deceased+Telangana_deceased+Tamil_Nadu_deceased+Tripura_deceased+Uttar_Pradesh_deceased+Uttarakhand_deceased+West_Bengal_deceased+Andaman_and_Nicobar_Islands_deceased+Andhra_Pradesh_deceased+Arunachal_Pradesh_deceased\n",
        "purerecovered=assamrecovered+biharrecovered+Chandigarhrecovered+Chhattisgarhrecovered+Delhirecovered+Dadra_and_Nagar_Haveli_and_Daman_and_Diu_recovered+Goa_recovered+Gujarat_recovered+Himachal_Pradesh_recovered+Haryana_recovered+Jharkhand_recovered+Jammu_and_Kashmir_recovered+Karnataka_recovered+Kerala_recovered+Ladakh_recovered+Lakshadweep_recovered+Maharashtra_recovered+Meghalaya_recovered+Manipur_recovered+Madhya_Pradesh_recovered+Mizoram_recovered+Nagaland_recovered+ Odisha_recovered+Punjab_recovered+Puducherry_recovered+Rajasthan_recovered+Sikkim_recovered+Telangana_recovered+Tamil_Nadu_recovered+Tripura_recovered+Uttar_Pradesh_recovered+Uttarakhand_recovered+West_Bengal_recovered+Andaman_and_Nicobar_Islands_recovered+Andhra_Pradesh_recovered+Arunachal_Pradesh_recovered"
      ],
      "execution_count": null,
      "outputs": []
    },
    {
      "cell_type": "code",
      "metadata": {
        "id": "HPettRELdZGL",
        "colab_type": "code",
        "colab": {}
      },
      "source": [
        "print(len(pureActive))\n",
        "print(len(pureConfirmed))\n",
        "print(len(puredeceased))\n",
        "print(len(purerecovered))"
      ],
      "execution_count": null,
      "outputs": []
    },
    {
      "cell_type": "code",
      "metadata": {
        "id": "p5pPBYVYHz5C",
        "colab_type": "code",
        "colab": {}
      },
      "source": [
        "d[\"ACTIVE CASES\"]=pureActive\n",
        "d[\"CONFIRMED CASES\"]=pureConfirmed\n",
        "d[\"DECEASED CASES\"]=puredeceased\n",
        "d[\"RECOVERED CASES\"]=purerecovered"
      ],
      "execution_count": null,
      "outputs": []
    },
    {
      "cell_type": "code",
      "metadata": {
        "id": "GMn-i-8yIkqV",
        "colab_type": "code",
        "colab": {}
      },
      "source": [
        "print(d)\n",
        "d.to_csv(\"carona_data.csv\")"
      ],
      "execution_count": null,
      "outputs": []
    },
    {
      "cell_type": "code",
      "metadata": {
        "id": "HZoIEnaBWpMC",
        "colab_type": "code",
        "colab": {}
      },
      "source": [
        "import plotly.graph_objects as go\n",
        "import plotly.express as px"
      ],
      "execution_count": null,
      "outputs": []
    },
    {
      "cell_type": "code",
      "metadata": {
        "id": "7u5jKfzILNZz",
        "colab_type": "code",
        "colab": {}
      },
      "source": [
        "map_active = go.Scattermapbox(\n",
        "        customdata=d.loc[:,['ACTIVE CASES',\"CONFIRMED CASES\",\"DECEASED CASES\",\"RECOVERED CASES\"]],\n",
        "        name='ACTIVE CASES',\n",
        "        lon=d['longitude'],\n",
        "        lat=d['Latitude'],\n",
        "        mode='markers',\n",
        "        text=d['District'],\n",
        "        hovertemplate=\n",
        "        \"<b>%{text}</b><br><br>\" +\n",
        "        \"ACTIVE: %{customdata[0]}<br>\" +\n",
        "        \"<extra></extra>\",\n",
        "        fillcolor='mediumturquoise',\n",
        "        showlegend=True,\n",
        "        \n",
        "        marker=go.scattermapbox.Marker(\n",
        "            size=10,\n",
        "            color='Red',\n",
        "            opacity=1\n",
        "        ),\n",
        "        opacity=0.5,\n",
        "\n",
        "    )"
      ],
      "execution_count": null,
      "outputs": []
    },
    {
      "cell_type": "code",
      "metadata": {
        "id": "7I4szlx_g6EJ",
        "colab_type": "code",
        "colab": {}
      },
      "source": [
        "map_confirmed = go.Scattermapbox(\n",
        "        customdata=d.loc[:,['ACTIVE CASES',\"CONFIRMED CASES\",\"DECEASED CASES\",\"RECOVERED CASES\"]],\n",
        "        name='CONFIRMED CASES',\n",
        "        lon=d['longitude'],\n",
        "        lat=d['Latitude'],\n",
        "        mode='markers',\n",
        "        text=d['District'],\n",
        "        hovertemplate=\n",
        "        \"<b>%{text}</b><br><br>\" +\n",
        "        \"CONFIRMED : %{customdata[1]}<br>\" +\n",
        "        \"<extra></extra>\",\n",
        "        fillcolor='mediumturquoise',\n",
        "        showlegend=True,\n",
        "\n",
        "        marker=go.scattermapbox.Marker(\n",
        "            size=10,\n",
        "            color='YELLOW',\n",
        "            opacity=1\n",
        "        ),\n",
        "        opacity=0.5,\n",
        "\n",
        "    )"
      ],
      "execution_count": null,
      "outputs": []
    },
    {
      "cell_type": "code",
      "metadata": {
        "id": "vYYqdyRnmnQN",
        "colab_type": "code",
        "colab": {}
      },
      "source": [
        "import numpy as np"
      ],
      "execution_count": null,
      "outputs": []
    },
    {
      "cell_type": "code",
      "metadata": {
        "id": "wgSb3ekQiBOY",
        "colab_type": "code",
        "colab": {}
      },
      "source": [
        "map_deceased = go.Scattermapbox(\n",
        "        customdata=d.loc[:,['ACTIVE CASES',\"CONFIRMED CASES\",\"DECEASED CASES\",\"RECOVERED CASES\"]],\n",
        "        name='DECEASED CASES',\n",
        "        lon=d['longitude'],\n",
        "        lat=d['Latitude'],\n",
        "        mode='markers',\n",
        "        text=d['District'],\n",
        "        hovertemplate=\n",
        "        \"<b>%{text}</b><br><br>\" +\n",
        "        \"DECEASED : %{customdata[2]}<br>\" +\n",
        "        \"<extra></extra>\",\n",
        "        fillcolor='mediumturquoise',\n",
        "        showlegend=True,\n",
        "\n",
        "        marker=go.scattermapbox.Marker(\n",
        "            size=10,\n",
        "            color=\"Green\",\n",
        "            opacity=1,\n",
        "        ),\n",
        "        opacity=0.5,\n",
        "\n",
        "    )"
      ],
      "execution_count": null,
      "outputs": []
    },
    {
      "cell_type": "code",
      "metadata": {
        "id": "OP0EfE7fnJxA",
        "colab_type": "code",
        "colab": {}
      },
      "source": [
        "map_recovered = go.Scattermapbox(\n",
        "        customdata=d.loc[:,['ACTIVE CASES',\"CONFIRMED CASES\",\"DECEASED CASES\",\"RECOVERED CASES\"]],\n",
        "        name='RECOVERED CASES',\n",
        "        lon=d['longitude'],\n",
        "        lat=d['Latitude'],\n",
        "        mode='markers',\n",
        "        text=d['District'],\n",
        "        hovertemplate=\n",
        "        \"<b>%{text}</b><br><br>\" +\n",
        "        \"RECOVERED : %{customdata[3]}<br>\" +\n",
        "        \"<extra></extra>\",\n",
        "        fillcolor='mediumturquoise',\n",
        "        showlegend=True,\n",
        "       \n",
        "        marker=go.scattermapbox.Marker(\n",
        "            size=10,\n",
        "            color=\"BLUE\",\n",
        "            opacity=1,\n",
        "        ),\n",
        "        opacity=0.5,\n",
        "\n",
        "    )"
      ],
      "execution_count": null,
      "outputs": []
    },
    {
      "cell_type": "code",
      "metadata": {
        "id": "C34SFdEHMH8m",
        "colab_type": "code",
        "colab": {}
      },
      "source": [
        "   layout = go.Layout(\n",
        "        height=800,\n",
        "        mapbox_style=\"stamen-watercolor\",\n",
        "        autosize=True,\n",
        "        #mapbox_layers=[\n",
        "           # {\n",
        "               # \"below\": 'traces',\n",
        "               # \"sourcetype\": \"raster\",\n",
        "               # \"source\": [\n",
        "               #     \"https://basemap.nationalmap.gov/arcgis/rest/services/USGSImageryOnly/MapServer/tile/{z}/{y}/{x}\"\n",
        "                    \n",
        "               # ]\n",
        "            #}\n",
        "        #],'''\n",
        "        font=dict(\n",
        "            family=\"Courier New, monospace\",\n",
        "            size=18,\n",
        "            color=\"#7f7f7f\"\n",
        "            \n",
        "        ),\n",
        "        paper_bgcolor='rgba(0,0,0,0)',\n",
        "        plot_bgcolor='rgba(0,0,0,0)'\n",
        "    )"
      ],
      "execution_count": null,
      "outputs": []
    },
    {
      "cell_type": "code",
      "metadata": {
        "id": "e2-02wbrYDYQ",
        "colab_type": "code",
        "colab": {}
      },
      "source": [
        "data = [map_active,map_confirmed,map_deceased,map_recovered]\n",
        "\n",
        "fig = go.Figure(data=data, layout=layout)\n",
        "fig.update_layout(title='COVID 19 REAL-TIME REPORT <br>BY NAVEEN')\n",
        "fig.update_layout(mapbox_style=\"open-street-map\")\n",
        "\n",
        "fig.show()"
      ],
      "execution_count": null,
      "outputs": []
    },
    {
      "cell_type": "code",
      "metadata": {
        "id": "py0nhLghAmEg",
        "colab_type": "code",
        "colab": {}
      },
      "source": [
        "print(d['ACTIVE CASES'].describe())"
      ],
      "execution_count": null,
      "outputs": []
    },
    {
      "cell_type": "code",
      "metadata": {
        "id": "A3DfVEoTwSo-",
        "colab_type": "code",
        "colab": {}
      },
      "source": [
        "!pip install dash"
      ],
      "execution_count": null,
      "outputs": []
    },
    {
      "cell_type": "code",
      "metadata": {
        "id": "GeoR7dxNLGek",
        "colab_type": "code",
        "colab": {}
      },
      "source": [
        "%%sh\n",
        "# get ngrok\n",
        "curl -O https://bin.equinox.io/c/4VmDzA7iaHb/ngrok-stable-linux-amd64.zip\n",
        "unzip ngrok-stable-linux-amd64.zip"
      ],
      "execution_count": null,
      "outputs": []
    },
    {
      "cell_type": "code",
      "metadata": {
        "id": "Y7PoazVfIfAu",
        "colab_type": "code",
        "colab": {}
      },
      "source": [
        "sleep(30)"
      ],
      "execution_count": null,
      "outputs": []
    },
    {
      "cell_type": "code",
      "metadata": {
        "id": "ZcYaOJYPi77r",
        "colab_type": "code",
        "colab": {}
      },
      "source": [
        "# launch ngrok\n",
        "get_ipython().system_raw('./ngrok http 8050 &')\n",
        "sleep(20)"
      ],
      "execution_count": null,
      "outputs": []
    },
    {
      "cell_type": "code",
      "metadata": {
        "id": "UXr4npNNjDrF",
        "colab_type": "code",
        "colab": {}
      },
      "source": [
        "%%sh\n",
        "# get url with ngrok\n",
        "curl -s http://localhost:4040/api/tunnels | python3 -c \"import sys, json; print(json.load(sys.stdin)['tunnels'][0]['public_url'])\""
      ],
      "execution_count": null,
      "outputs": []
    },
    {
      "cell_type": "code",
      "metadata": {
        "id": "c0kVqCyYMY4j",
        "colab_type": "code",
        "colab": {}
      },
      "source": [
        "sleep(20)"
      ],
      "execution_count": null,
      "outputs": []
    },
    {
      "cell_type": "code",
      "metadata": {
        "id": "9wDxi3dOwMi1",
        "colab_type": "code",
        "colab": {}
      },
      "source": [
        "\n",
        "import dash\n",
        "import dash_core_components as dcc\n",
        "import dash_html_components as html\n",
        "\n",
        "app = dash.Dash()\n",
        "app.layout = html.Div([\n",
        "    dcc.Graph(figure=fig)\n",
        "])\n",
        "if __name__ == '__main__':\n",
        "    app.run_server(debug=False)"
      ],
      "execution_count": null,
      "outputs": []
    },
    {
      "cell_type": "code",
      "metadata": {
        "id": "DAoQwEMSw0-N",
        "colab_type": "code",
        "colab": {}
      },
      "source": [
        ""
      ],
      "execution_count": null,
      "outputs": []
    }
  ]
}
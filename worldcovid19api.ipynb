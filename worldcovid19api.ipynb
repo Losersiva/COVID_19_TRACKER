{
  "nbformat": 4,
  "nbformat_minor": 0,
  "metadata": {
    "colab": {
      "name": "Copy of covid19api.ipynb",
      "provenance": [],
      "private_outputs": true,
      "authorship_tag": "ABX9TyOvnL77rx95I2ltT3E1CkfE",
      "include_colab_link": true
    },
    "kernelspec": {
      "name": "python3",
      "display_name": "Python 3"
    }
  },
  "cells": [
    {
      "cell_type": "markdown",
      "metadata": {
        "id": "view-in-github",
        "colab_type": "text"
      },
      "source": [
        "<a href=\"https://colab.research.google.com/github/engineerscodes/COVID_19_TRACKER/blob/master/worldcovid19api.ipynb\" target=\"_parent\"><img src=\"https://colab.research.google.com/assets/colab-badge.svg\" alt=\"Open In Colab\"/></a>"
      ]
    },
    {
      "cell_type": "code",
      "metadata": {
        "id": "iDmuKgHaH3PD",
        "colab_type": "code",
        "colab": {}
      },
      "source": [
        "import requests as rq\n",
        "\n",
        "from pandas import DataFrame as df\n",
        "import plotly.graph_objects as go\n",
        "import plotly.express as px\n",
        "r = rq.get('https://coronavirus-tracker-api.herokuapp.com/v2/locations/')\n"
      ],
      "execution_count": null,
      "outputs": []
    },
    {
      "cell_type": "code",
      "metadata": {
        "id": "RkkHHsVAH52w",
        "colab_type": "code",
        "colab": {}
      },
      "source": [
        "print(r.status_code)\n",
        "r=df(r.json()['locations'])"
      ],
      "execution_count": null,
      "outputs": []
    },
    {
      "cell_type": "code",
      "metadata": {
        "id": "QITR5JJHH-5c",
        "colab_type": "code",
        "colab": {}
      },
      "source": [
        "lon=[]\n",
        "lat=[]\n",
        "for x in r[\"coordinates\"]:\n",
        "    lon.append(x['longitude'])\n",
        "    lat.append(x['latitude'])"
      ],
      "execution_count": null,
      "outputs": []
    },
    {
      "cell_type": "code",
      "metadata": {
        "id": "YhLBUl1TIEnN",
        "colab_type": "code",
        "colab": {}
      },
      "source": [
        "deaths = []\n",
        "death_size = []\n",
        "confirmed = []\n",
        "confirmed_size = []\n",
        "recovered = []\n",
        "recovered_size = []\n",
        "for x in r['latest']:\n",
        "        confirmed.append(x['confirmed'])\n",
        "        confirmed_size.append((int (x['confirmed']) /30000))\n",
        "        deaths.append(x['deaths'])\n",
        "        death_size.append(abs(int(x['deaths'])))\n",
        "        recovered.append(x['recovered'])\n",
        "        recovered_size.append(int(float(x['recovered']) / 30000))\n"
      ],
      "execution_count": null,
      "outputs": []
    },
    {
      "cell_type": "code",
      "metadata": {
        "id": "ARTTuF3YIJT_",
        "colab_type": "code",
        "colab": {}
      },
      "source": [
        "r['confirmed'] = df(confirmed)\n",
        "r['confirmed_size'] = df(confirmed_size)\n",
        "r['deaths'] = df(deaths)\n",
        "r['death_size'] = df(death_size)\n",
        "r['recovered'] = df(recovered)\n",
        "r['recovered_size'] = df(recovered_size)\n",
        "r['lat'] = df(lat)\n",
        "r['lon'] = df(lon)"
      ],
      "execution_count": null,
      "outputs": []
    },
    {
      "cell_type": "code",
      "metadata": {
        "id": "-PeBmOYrIOxr",
        "colab_type": "code",
        "colab": {}
      },
      "source": [
        "map_confirmed = go.Scattermapbox(\n",
        "        customdata=r.loc[:,['confirmed',\"deaths\",\"recovered\"]],\n",
        "        name='Confirmed Cases',\n",
        "        lon=r['lon'],\n",
        "        lat=r['lat'],\n",
        "        mode='markers',\n",
        "        text=r['country'],\n",
        "        hovertemplate=\n",
        "        \"<b>%{text}</b><br><br>\" +\n",
        "        \"Confirmed: %{customdata[0]}<br>\" +\n",
        "        \"<extra></extra>\",\n",
        "        fillcolor='mediumturquoise',\n",
        "        showlegend=True,\n",
        "        marker=go.scattermapbox.Marker(\n",
        "            size=r['confirmed_size'],\n",
        "            color='mediumturquoise',\n",
        "            opacity=0.5\n",
        "        ),\n",
        "        opacity=0.5,\n",
        "\n",
        "    )"
      ],
      "execution_count": null,
      "outputs": []
    },
    {
      "cell_type": "code",
      "metadata": {
        "id": "CZATQVNFLdp0",
        "colab_type": "code",
        "colab": {}
      },
      "source": [
        "    map_deaths = go.Scattermapbox(\n",
        "        customdata=r.loc[:,['confirmed',\"deaths\",\"recovered\"]],\n",
        "        name='Deaths',\n",
        "        lon=r['lon'],\n",
        "        lat=r['lat'],\n",
        "        mode='markers',\n",
        "         text=r['country'],\n",
        "        hovertemplate=\n",
        "        \"<b>%{text}</b><br><br>\" +\n",
        "        \"death: %{customdata[1]}<br>\" +\n",
        "        \"<extra></extra>\",\n",
        "        fillcolor='yellow',\n",
        "        showlegend=True,\n",
        "        marker=go.scattermapbox.Marker(\n",
        "            size=r['deaths']/5000,\n",
        "            color='red',\n",
        "            opacity=0.5\n",
        "        ),\n",
        "        opacity=0.5,\n",
        "    )\n",
        "\n",
        "    map_recovered = go.Scattermapbox(\n",
        "        customdata=r.loc[:,['confirmed',\"deaths\",\"recovered\"]],\n",
        "        # deaths = r['deaths'],\n",
        "        # recovered = r['recovered'],\n",
        "        name='recovered',\n",
        "        lon=r['lon'],\n",
        "        lat=r['lat'],\n",
        "        text=r['country'],\n",
        "        hovertemplate=\n",
        "        \"<b>%{text}</b><br><br>\" +\n",
        "        \"<extra></extra>\",\n",
        "        showlegend=True,\n",
        "        marker=go.scattermapbox.Marker(\n",
        "            size=(r['recovered']),\n",
        "            color='green',\n",
        "        ),\n",
        "        opacity=0.5,\n",
        "    )"
      ],
      "execution_count": null,
      "outputs": []
    },
    {
      "cell_type": "code",
      "metadata": {
        "id": "caFoNrNFIgv0",
        "colab_type": "code",
        "colab": {}
      },
      "source": [
        "   layout = go.Layout(\n",
        "        height=800,\n",
        "        mapbox_style=\"white-bg\",\n",
        "        autosize=True,\n",
        "        mapbox_layers=[\n",
        "            {\n",
        "                \"below\": 'traces',\n",
        "                \"sourcetype\": \"raster\",\n",
        "                \"source\": [\n",
        "                    \"https://basemap.nationalmap.gov/arcgis/rest/services/USGSImageryOnly/MapServer/tile/{z}/{y}/{x}\"\n",
        "                ]\n",
        "            }\n",
        "        ],\n",
        "        font=dict(\n",
        "            family=\"Courier New, monospace\",\n",
        "            size=18,\n",
        "            color=\"#7f7f7f\"\n",
        "        ),\n",
        "        paper_bgcolor='rgba(0,0,0,0)',\n",
        "        plot_bgcolor='rgba(0,0,0,0)'\n",
        "    )"
      ],
      "execution_count": null,
      "outputs": []
    },
    {
      "cell_type": "code",
      "metadata": {
        "id": "U6QgOcDlIWSj",
        "colab_type": "code",
        "colab": {}
      },
      "source": [
        "\n",
        "  \n",
        "data = [map_confirmed, map_recovered, map_deaths]\n",
        "\n",
        "fig = go.Figure(data=data, layout=layout)\n",
        "fig.show()"
      ],
      "execution_count": null,
      "outputs": []
    }
  ]
}